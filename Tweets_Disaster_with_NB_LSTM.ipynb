{
 "cells": [
  {
   "cell_type": "markdown",
   "metadata": {
    "colab_type": "text",
    "id": "5YkrcJtKtdCW"
   },
   "source": [
    "<center><h1> Tweets Disaster or Not?<h1>"
   ]
  },
  {
   "cell_type": "markdown",
   "metadata": {},
   "source": [
    "# Competition Description\n",
    "\n",
    " - Twitter has become an important communication channel in times of emergency.\n",
    "The ubiquitousness of smartphones enables people to announce an emergency they’re observing in real-time. Because of this, more agencies are interested in programatically monitoring Twitter (i.e. disaster relief organizations and news agencies). But, it’s not always clear whether a person’s words are actually announcing a disaster.\n",
    "\n",
    "#### Source: https://www.kaggle.com/c/nlp-getting-started/overview"
   ]
  },
  {
   "cell_type": "markdown",
   "metadata": {
    "colab": {},
    "colab_type": "code",
    "id": "GBQafsI8bxAj"
   },
   "source": [
    "# Objective:\n",
    "\n",
    " - Given the keyword, location and text (tweet), model should predict if the tweet is announcing a disaster (1) or not (0)."
   ]
  },
  {
   "cell_type": "markdown",
   "metadata": {},
   "source": [
    "# Trained the model with\n",
    "\n",
    " - __Machine Learning Alogrithm: Naive Bayes__\n",
    " - __Deep Learning: LSTM (Long Short Term Memory)__"
   ]
  },
  {
   "cell_type": "code",
   "execution_count": null,
   "metadata": {},
   "outputs": [],
   "source": []
  },
  {
   "cell_type": "markdown",
   "metadata": {},
   "source": [
    "<center><h1>Machine Learning<h1>\n",
    "<center><h5>Naive Bayes<h5>"
   ]
  },
  {
   "cell_type": "code",
   "execution_count": 1,
   "metadata": {
    "colab": {
     "base_uri": "https://localhost:8080/",
     "height": 122
    },
    "colab_type": "code",
    "executionInfo": {
     "elapsed": 26456,
     "status": "ok",
     "timestamp": 1578719010042,
     "user": {
      "displayName": "sandeep panchal",
      "photoUrl": "https://lh3.googleusercontent.com/a-/AAuE7mCDqp8ZcyRAywNG1QL_TT0dbqm_TRCL6CyGzR511w=s64",
      "userId": "16028125481769875260"
     },
     "user_tz": -330
    },
    "id": "NeXi3JV3eTzS",
    "outputId": "7c4e756e-f307-433d-a25d-4400fe7b9f15"
   },
   "outputs": [
    {
     "name": "stdout",
     "output_type": "stream",
     "text": [
      "Go to this URL in a browser: https://accounts.google.com/o/oauth2/auth?client_id=947318989803-6bn6qk8qdgf4n4g3pfee6491hc0brc4i.apps.googleusercontent.com&redirect_uri=urn%3aietf%3awg%3aoauth%3a2.0%3aoob&response_type=code&scope=email%20https%3a%2f%2fwww.googleapis.com%2fauth%2fdocs.test%20https%3a%2f%2fwww.googleapis.com%2fauth%2fdrive%20https%3a%2f%2fwww.googleapis.com%2fauth%2fdrive.photos.readonly%20https%3a%2f%2fwww.googleapis.com%2fauth%2fpeopleapi.readonly\n",
      "\n",
      "Enter your authorization code:\n",
      "··········\n",
      "Mounted at /content/drive\n"
     ]
    }
   ],
   "source": [
    "from google.colab import drive\n",
    "drive.mount('/content/drive')"
   ]
  },
  {
   "cell_type": "code",
   "execution_count": 0,
   "metadata": {
    "colab": {},
    "colab_type": "code",
    "id": "UTi8Hguce3C1"
   },
   "outputs": [],
   "source": [
    "import numpy as np\n",
    "import pandas as pd\n",
    "import matplotlib.pyplot as plt\n",
    "%matplotlib inline\n",
    "import seaborn as sns\n",
    "\n",
    "import warnings\n",
    "warnings.filterwarnings('ignore')\n"
   ]
  },
  {
   "cell_type": "code",
   "execution_count": 0,
   "metadata": {
    "colab": {},
    "colab_type": "code",
    "id": "0IRGuwiPeZWQ"
   },
   "outputs": [],
   "source": [
    "df = pd.read_csv('/content/drive/My Drive/Tweets Disaster or not/nlp-getting-started/train.csv')\n",
    "\n",
    "test = pd.read_csv('/content/drive/My Drive/Tweets Disaster or not/nlp-getting-started/test.csv')\n",
    "\n",
    "submission = pd.read_csv('/content/drive/My Drive/Tweets Disaster or not/nlp-getting-started/sample_submission.csv')"
   ]
  },
  {
   "cell_type": "code",
   "execution_count": 4,
   "metadata": {
    "colab": {
     "base_uri": "https://localhost:8080/",
     "height": 204
    },
    "colab_type": "code",
    "executionInfo": {
     "elapsed": 5644,
     "status": "ok",
     "timestamp": 1578719013896,
     "user": {
      "displayName": "sandeep panchal",
      "photoUrl": "https://lh3.googleusercontent.com/a-/AAuE7mCDqp8ZcyRAywNG1QL_TT0dbqm_TRCL6CyGzR511w=s64",
      "userId": "16028125481769875260"
     },
     "user_tz": -330
    },
    "id": "KdpZ6xive1Vw",
    "outputId": "b37578eb-9c07-44a0-c5e7-82c865a8f427"
   },
   "outputs": [
    {
     "data": {
      "text/html": [
       "<div>\n",
       "<style scoped>\n",
       "    .dataframe tbody tr th:only-of-type {\n",
       "        vertical-align: middle;\n",
       "    }\n",
       "\n",
       "    .dataframe tbody tr th {\n",
       "        vertical-align: top;\n",
       "    }\n",
       "\n",
       "    .dataframe thead th {\n",
       "        text-align: right;\n",
       "    }\n",
       "</style>\n",
       "<table border=\"1\" class=\"dataframe\">\n",
       "  <thead>\n",
       "    <tr style=\"text-align: right;\">\n",
       "      <th></th>\n",
       "      <th>id</th>\n",
       "      <th>keyword</th>\n",
       "      <th>location</th>\n",
       "      <th>text</th>\n",
       "      <th>target</th>\n",
       "    </tr>\n",
       "  </thead>\n",
       "  <tbody>\n",
       "    <tr>\n",
       "      <th>0</th>\n",
       "      <td>1</td>\n",
       "      <td>NaN</td>\n",
       "      <td>NaN</td>\n",
       "      <td>Our Deeds are the Reason of this #earthquake M...</td>\n",
       "      <td>1</td>\n",
       "    </tr>\n",
       "    <tr>\n",
       "      <th>1</th>\n",
       "      <td>4</td>\n",
       "      <td>NaN</td>\n",
       "      <td>NaN</td>\n",
       "      <td>Forest fire near La Ronge Sask. Canada</td>\n",
       "      <td>1</td>\n",
       "    </tr>\n",
       "    <tr>\n",
       "      <th>2</th>\n",
       "      <td>5</td>\n",
       "      <td>NaN</td>\n",
       "      <td>NaN</td>\n",
       "      <td>All residents asked to 'shelter in place' are ...</td>\n",
       "      <td>1</td>\n",
       "    </tr>\n",
       "    <tr>\n",
       "      <th>3</th>\n",
       "      <td>6</td>\n",
       "      <td>NaN</td>\n",
       "      <td>NaN</td>\n",
       "      <td>13,000 people receive #wildfires evacuation or...</td>\n",
       "      <td>1</td>\n",
       "    </tr>\n",
       "    <tr>\n",
       "      <th>4</th>\n",
       "      <td>7</td>\n",
       "      <td>NaN</td>\n",
       "      <td>NaN</td>\n",
       "      <td>Just got sent this photo from Ruby #Alaska as ...</td>\n",
       "      <td>1</td>\n",
       "    </tr>\n",
       "  </tbody>\n",
       "</table>\n",
       "</div>"
      ],
      "text/plain": [
       "   id keyword  ...                                               text target\n",
       "0   1     NaN  ...  Our Deeds are the Reason of this #earthquake M...      1\n",
       "1   4     NaN  ...             Forest fire near La Ronge Sask. Canada      1\n",
       "2   5     NaN  ...  All residents asked to 'shelter in place' are ...      1\n",
       "3   6     NaN  ...  13,000 people receive #wildfires evacuation or...      1\n",
       "4   7     NaN  ...  Just got sent this photo from Ruby #Alaska as ...      1\n",
       "\n",
       "[5 rows x 5 columns]"
      ]
     },
     "execution_count": 4,
     "metadata": {
      "tags": []
     },
     "output_type": "execute_result"
    }
   ],
   "source": [
    "df.head()"
   ]
  },
  {
   "cell_type": "markdown",
   "metadata": {
    "colab_type": "text",
    "id": "mU4omA9a6V4O"
   },
   "source": [
    "# Value counts of target variable"
   ]
  },
  {
   "cell_type": "code",
   "execution_count": 0,
   "metadata": {
    "colab": {
     "base_uri": "https://localhost:8080/",
     "height": 102
    },
    "colab_type": "code",
    "executionInfo": {
     "elapsed": 884,
     "status": "ok",
     "timestamp": 1578578007094,
     "user": {
      "displayName": "sandeep panchal",
      "photoUrl": "https://lh3.googleusercontent.com/a-/AAuE7mCDqp8ZcyRAywNG1QL_TT0dbqm_TRCL6CyGzR511w=s64",
      "userId": "16028125481769875260"
     },
     "user_tz": -330
    },
    "id": "b1vb1J3r6Yt9",
    "outputId": "6e4fa2b4-c252-4d52-968b-2bf0917f9089"
   },
   "outputs": [
    {
     "name": "stdout",
     "output_type": "stream",
     "text": [
      "value counts of target\n",
      "\n"
     ]
    },
    {
     "data": {
      "text/plain": [
       "0    4342\n",
       "1    3271\n",
       "Name: target, dtype: int64"
      ]
     },
     "execution_count": 7,
     "metadata": {
      "tags": []
     },
     "output_type": "execute_result"
    }
   ],
   "source": [
    "print('value counts of target\\n')\n",
    "df.target.value_counts()"
   ]
  },
  {
   "cell_type": "code",
   "execution_count": 0,
   "metadata": {
    "colab": {
     "base_uri": "https://localhost:8080/",
     "height": 279
    },
    "colab_type": "code",
    "executionInfo": {
     "elapsed": 1084,
     "status": "ok",
     "timestamp": 1578578007640,
     "user": {
      "displayName": "sandeep panchal",
      "photoUrl": "https://lh3.googleusercontent.com/a-/AAuE7mCDqp8ZcyRAywNG1QL_TT0dbqm_TRCL6CyGzR511w=s64",
      "userId": "16028125481769875260"
     },
     "user_tz": -330
    },
    "id": "81ppJ_RQ6dB1",
    "outputId": "2025d2ee-f40c-453e-b3f1-db25ab3e5927"
   },
   "outputs": [
    {
     "data": {
      "image/png": "[encoded data removed]",
      "text/plain": [
       "<Figure size 432x288 with 1 Axes>"
      ]
     },
     "metadata": {
      "tags": []
     },
     "output_type": "display_data"
    }
   ],
   "source": [
    "sns.countplot(df.target)\n",
    "plt.show()"
   ]
  },
  {
   "cell_type": "markdown",
   "metadata": {
    "colab_type": "text",
    "id": "L4OSbJr9rf0P"
   },
   "source": [
    "# Data set is well balanced"
   ]
  },
  {
   "cell_type": "code",
   "execution_count": 0,
   "metadata": {
    "colab": {
     "base_uri": "https://localhost:8080/",
     "height": 85
    },
    "colab_type": "code",
    "executionInfo": {
     "elapsed": 1109,
     "status": "ok",
     "timestamp": 1578578009055,
     "user": {
      "displayName": "sandeep panchal",
      "photoUrl": "https://lh3.googleusercontent.com/a-/AAuE7mCDqp8ZcyRAywNG1QL_TT0dbqm_TRCL6CyGzR511w=s64",
      "userId": "16028125481769875260"
     },
     "user_tz": -330
    },
    "id": "A7VVaMZTgAgj",
    "outputId": "6aa206c8-8998-4cee-d962-fcc132ea159d"
   },
   "outputs": [
    {
     "name": "stdout",
     "output_type": "stream",
     "text": [
      "\n",
      "keyword column has 61 null values\n",
      "\n",
      "location column has 2533 null values\n"
     ]
    }
   ],
   "source": [
    "col = df.columns\n",
    "\n",
    "for i in range(len(col)-1):\n",
    "    if df[col[i]].isnull().sum() != 0:\n",
    "        c = df[col[i]].isnull().sum()\n",
    "        print('\\n{} column has {} null values'.format(col[i], c))"
   ]
  },
  {
   "cell_type": "code",
   "execution_count": 0,
   "metadata": {
    "colab": {
     "base_uri": "https://localhost:8080/",
     "height": 85
    },
    "colab_type": "code",
    "executionInfo": {
     "elapsed": 1344,
     "status": "ok",
     "timestamp": 1578578009746,
     "user": {
      "displayName": "sandeep panchal",
      "photoUrl": "https://lh3.googleusercontent.com/a-/AAuE7mCDqp8ZcyRAywNG1QL_TT0dbqm_TRCL6CyGzR511w=s64",
      "userId": "16028125481769875260"
     },
     "user_tz": -330
    },
    "id": "5QGQPIbu4Jn3",
    "outputId": "c1eaee0d-66bb-42dc-bd78-36afbacc5156"
   },
   "outputs": [
    {
     "name": "stdout",
     "output_type": "stream",
     "text": [
      "\n",
      "Percentage of null values in keyword: 0.801\n",
      "\n",
      "Percentage of null values in location: 33.272\n"
     ]
    }
   ],
   "source": [
    "print('\\nPercentage of null values in keyword:', round((df.keyword.isnull().sum() / df.shape[0]) * 100, 3))\n",
    "print('\\nPercentage of null values in location:', round((df.location.isnull().sum() / df.shape[0]) * 100, 3))"
   ]
  },
  {
   "cell_type": "code",
   "execution_count": 0,
   "metadata": {
    "colab": {
     "base_uri": "https://localhost:8080/",
     "height": 85
    },
    "colab_type": "code",
    "executionInfo": {
     "elapsed": 1467,
     "status": "ok",
     "timestamp": 1578578010314,
     "user": {
      "displayName": "sandeep panchal",
      "photoUrl": "https://lh3.googleusercontent.com/a-/AAuE7mCDqp8ZcyRAywNG1QL_TT0dbqm_TRCL6CyGzR511w=s64",
      "userId": "16028125481769875260"
     },
     "user_tz": -330
    },
    "id": "P_2cEIg2gHyN",
    "outputId": "e21b2527-eef1-4ada-83f1-c3be4a7abb40"
   },
   "outputs": [
    {
     "name": "stdout",
     "output_type": "stream",
     "text": [
      "Number of unique values in keyword: 221 \n",
      "\n",
      "Number of unique values in location: 3341 \n",
      "\n"
     ]
    }
   ],
   "source": [
    "print('Number of unique values in keyword:', df.keyword.nunique(), '\\n')\n",
    "print('Number of unique values in location:', df.location.nunique(), '\\n')"
   ]
  },
  {
   "cell_type": "code",
   "execution_count": 0,
   "metadata": {
    "colab": {
     "base_uri": "https://localhost:8080/",
     "height": 1000
    },
    "colab_type": "code",
    "executionInfo": {
     "elapsed": 1052,
     "status": "ok",
     "timestamp": 1578578010316,
     "user": {
      "displayName": "sandeep panchal",
      "photoUrl": "https://lh3.googleusercontent.com/a-/AAuE7mCDqp8ZcyRAywNG1QL_TT0dbqm_TRCL6CyGzR511w=s64",
      "userId": "16028125481769875260"
     },
     "user_tz": -330
    },
    "id": "PEdjEQIiEFRq",
    "outputId": "261bfc98-921a-413f-e346-e9fd371a79f6"
   },
   "outputs": [
    {
     "name": "stdout",
     "output_type": "stream",
     "text": [
      "\n",
      "-> Preprocessed text data:\n",
      "\n",
      "\n",
      "0: Our Deeds are the Reason of this #earthquake May ALLAH Forgive us all\n",
      "\n",
      "300: Shadow boxing the apocalypse\n",
      "\n",
      "600: #BreakingNews http://t.co/gAN14PW9TG FedEx no longer willing to transport research specimens of potential bioterÛ_ http://t.co/5n4hUsewLy\n",
      "\n",
      "900: Damn bloody hot\n",
      "\n",
      "1200: kou is like [CASH REGISTER] [BUILDINGS BURNING]\n",
      "\n",
      "1500: catastrophic-fallen-angel: reveillertm: macabrelolita: I was supposed to write Û÷amino acidsÛª and I nearly... http://t.co/dIoBzGHFju\n",
      "\n",
      "1800: ??One night and we're gonna come and crash the party\n",
      "Weren't invited but we're feelin' soÛ_ https://t.co/9hKXxBB82O\n",
      "\n",
      "2100: I liked a @YouTube video from @jeromekem http://t.co/Nq89drydbU DJ Hazard - Death Sport\n",
      "\n",
      "2400: Sound judgement by MPC - premature rises could derail recovery #Business http://t.co/fvLgU1naYr\n",
      "\n",
      "2700: Ignition Knock (Detonation) Sensor-Senso BECK/ARNLEY 158-1017 http://t.co/ryoByQJFCE http://t.co/LW9O2kDk18\n",
      "\n",
      "3000: Dust Storm 'en route' from Alice Springs to Uluru http://t.co/4ilt6FXU45\n",
      "\n",
      "3300: cancel the fucking show. Evacuate MetLife  https://t.co/SkQ8oUcM3R\n",
      "\n",
      "3600: 11-Year-Old Boy Charged With Manslaughter of Toddler: Report: An 11-year-old boy has been charged with manslaughter over the fatal sh...\n",
      "\n",
      "3900: @SeanPeconi @Jason_Floyd @LynchOnSports @criscyborg I think the risk of losing and getting her nose flattened has a lot to do with it\n",
      "\n",
      "4200: 95-03 BMW 528 530 540 740 Emergency Warning Hazard Switch Button OEM 20177-707D http://t.co/kVNahTHUWZ http://t.co/Y8xkNpqMnJ\n",
      "\n",
      "4500: @ChubbySquirrel_ @Hurricane_Surge this here is very true &gt;:33333\n",
      "\n",
      "4800: matako_3: Breaking news! Unconfirmed! I just heard a loud bang nearby. in what appears to be a blast of wind from my neighbour's ass.\n",
      "\n",
      "5100: @drvox Trump can say nice things about nuclear power but 'drill baby drill!' + AGW denial = policy disaster for nuclear power.\n",
      "\n",
      "5400: You made my mood go from shitty af to panicking af istg\n",
      "\n",
      "5700: Turn back to me! I have rescued you and swept away your sins as though they were clouds. Isaiah 44:22 Contemporary English Version\n",
      "\n",
      "6000: @saku_uchiha_ @Ya_Boi_Luke \n",
      "\n",
      "Screams and gets a face full of Saku genitals\n",
      "\n",
      "6300: How to restore vinyl siding and make it look new again http://t.co/MHL7Pfr7kb http://t.co/lou8lbLA1f\n",
      "\n",
      "6600: NC Senate follows House on legal action on terrorism damages - Winston http://t.co/2Y5MoRpugt\n",
      "\n",
      "6900: @CiaraMcKendry mine came on the day after my data renewed this month i was traumatised\n",
      "\n",
      "7200: Abe's government made clear that grenades were not 'weapon.'\n",
      "\n",
      "7500: Omg if Cain dies i will be an emotional wreck #emmerdale\n"
     ]
    }
   ],
   "source": [
    "print('\\n-> Preprocessed text data:\\n')\n",
    "\n",
    "for i in range(0, df.shape[0], 300):\n",
    "    print('\\n{}'.format(i)+':', df['text'][i])\n"
   ]
  },
  {
   "cell_type": "code",
   "execution_count": 0,
   "metadata": {
    "colab": {},
    "colab_type": "code",
    "id": "ukir7qhUTYYn"
   },
   "outputs": [],
   "source": [
    "# Importing libraries\n",
    "\n",
    "import re\n",
    "from nltk.corpus import stopwords\n",
    "from nltk.stem.snowball import SnowballStemmer\n",
    "from tqdm import tqdm\n",
    "\n",
    "# Create an instance for SnowballStemmer\n",
    "ss = SnowballStemmer('english')"
   ]
  },
  {
   "cell_type": "code",
   "execution_count": 0,
   "metadata": {
    "colab": {},
    "colab_type": "code",
    "id": "flXXDvN9CaNO"
   },
   "outputs": [],
   "source": [
    "# Defining a function to convert short words like couldn't to full word could not\n",
    "def short_form(full_form):\n",
    "    \n",
    "    full_form = full_form.lower()      \n",
    "    \n",
    "    full_form = re.sub(r\"won't\", \"will not\", full_form)\n",
    "    full_form = re.sub(r\"wouldn't\", \"would not\", full_form)\n",
    "    full_form = re.sub(r\"can't\", \"can not\", full_form)\n",
    "    full_form = re.sub(r\"don't\", \"don not\", full_form)\n",
    "    full_form = re.sub(r\"shouldn't\", \"should not\", full_form)\n",
    "    full_form = re.sub(r\"couldn't\", \"could not\", full_form)\n",
    "    full_form = re.sub(r\"\\'re\", \" are\", full_form)\n",
    "    full_form = re.sub(r\"\\'s\", \" is\", full_form)\n",
    "    full_form = re.sub(r\"\\'d\", \" would\", full_form)\n",
    "    full_form = re.sub(r\"\\'ll\", \" will\", full_form)\n",
    "    full_form = re.sub(r\"\\'ve\", \" have\", full_form)\n",
    "    full_form = re.sub(r\"\\'m\", \" am\", full_form)\n",
    "  \n",
    "    return full_form\n",
    "\n",
    "# To remove URL\n",
    "def url(ur):\n",
    "    ur = re.sub(r\"http\\S+\", '', ur)\n",
    "    return ur\n",
    "\n",
    "# Defining a function to remove punctuations, numbers, stopwords and get stem of words\n",
    "def punc(pun):\n",
    "    pun = re.sub('[^a-zA-Z]', ' ', pun)\n",
    "    pun = pun.lower()\n",
    "    pun = pun.split()\n",
    "    pun = [ss.stem(sw) for sw in pun if sw not in stopwords.words('english')]\n",
    "    pun = ' '.join(pun)\n",
    "    return pun"
   ]
  },
  {
   "cell_type": "code",
   "execution_count": 7,
   "metadata": {
    "colab": {
     "base_uri": "https://localhost:8080/",
     "height": 68
    },
    "colab_type": "code",
    "executionInfo": {
     "elapsed": 1710,
     "status": "ok",
     "timestamp": 1578719068161,
     "user": {
      "displayName": "sandeep panchal",
      "photoUrl": "https://lh3.googleusercontent.com/a-/AAuE7mCDqp8ZcyRAywNG1QL_TT0dbqm_TRCL6CyGzR511w=s64",
      "userId": "16028125481769875260"
     },
     "user_tz": -330
    },
    "id": "sIk1WlZ3CcPR",
    "outputId": "7d9c5be4-9264-44f6-9f08-e362651d3a58"
   },
   "outputs": [
    {
     "name": "stdout",
     "output_type": "stream",
     "text": [
      "[nltk_data] Downloading package stopwords to /root/nltk_data...\n",
      "[nltk_data]   Unzipping corpora/stopwords.zip.\n"
     ]
    },
    {
     "data": {
      "text/plain": [
       "True"
      ]
     },
     "execution_count": 7,
     "metadata": {
      "tags": []
     },
     "output_type": "execute_result"
    }
   ],
   "source": [
    "import nltk\n",
    "nltk.download(\"stopwords\")"
   ]
  },
  {
   "cell_type": "markdown",
   "metadata": {
    "colab_type": "text",
    "id": "YNMeMC91Hwwx"
   },
   "source": [
    "# Test data"
   ]
  },
  {
   "cell_type": "code",
   "execution_count": 0,
   "metadata": {
    "colab": {
     "base_uri": "https://localhost:8080/",
     "height": 204
    },
    "colab_type": "code",
    "executionInfo": {
     "elapsed": 3371,
     "status": "ok",
     "timestamp": 1578649801968,
     "user": {
      "displayName": "sandeep panchal",
      "photoUrl": "https://lh3.googleusercontent.com/a-/AAuE7mCDqp8ZcyRAywNG1QL_TT0dbqm_TRCL6CyGzR511w=s64",
      "userId": "16028125481769875260"
     },
     "user_tz": -330
    },
    "id": "XzfCCGUUHyq2",
    "outputId": "59210d15-ab9e-4451-8f3a-f30dd426b07f"
   },
   "outputs": [
    {
     "data": {
      "text/html": [
       "<div>\n",
       "<style scoped>\n",
       "    .dataframe tbody tr th:only-of-type {\n",
       "        vertical-align: middle;\n",
       "    }\n",
       "\n",
       "    .dataframe tbody tr th {\n",
       "        vertical-align: top;\n",
       "    }\n",
       "\n",
       "    .dataframe thead th {\n",
       "        text-align: right;\n",
       "    }\n",
       "</style>\n",
       "<table border=\"1\" class=\"dataframe\">\n",
       "  <thead>\n",
       "    <tr style=\"text-align: right;\">\n",
       "      <th></th>\n",
       "      <th>id</th>\n",
       "      <th>keyword</th>\n",
       "      <th>location</th>\n",
       "      <th>text</th>\n",
       "    </tr>\n",
       "  </thead>\n",
       "  <tbody>\n",
       "    <tr>\n",
       "      <th>0</th>\n",
       "      <td>0</td>\n",
       "      <td>NaN</td>\n",
       "      <td>NaN</td>\n",
       "      <td>Just happened a terrible car crash</td>\n",
       "    </tr>\n",
       "    <tr>\n",
       "      <th>1</th>\n",
       "      <td>2</td>\n",
       "      <td>NaN</td>\n",
       "      <td>NaN</td>\n",
       "      <td>Heard about #earthquake is different cities, s...</td>\n",
       "    </tr>\n",
       "    <tr>\n",
       "      <th>2</th>\n",
       "      <td>3</td>\n",
       "      <td>NaN</td>\n",
       "      <td>NaN</td>\n",
       "      <td>there is a forest fire at spot pond, geese are...</td>\n",
       "    </tr>\n",
       "    <tr>\n",
       "      <th>3</th>\n",
       "      <td>9</td>\n",
       "      <td>NaN</td>\n",
       "      <td>NaN</td>\n",
       "      <td>Apocalypse lighting. #Spokane #wildfires</td>\n",
       "    </tr>\n",
       "    <tr>\n",
       "      <th>4</th>\n",
       "      <td>11</td>\n",
       "      <td>NaN</td>\n",
       "      <td>NaN</td>\n",
       "      <td>Typhoon Soudelor kills 28 in China and Taiwan</td>\n",
       "    </tr>\n",
       "  </tbody>\n",
       "</table>\n",
       "</div>"
      ],
      "text/plain": [
       "   id keyword location                                               text\n",
       "0   0     NaN      NaN                 Just happened a terrible car crash\n",
       "1   2     NaN      NaN  Heard about #earthquake is different cities, s...\n",
       "2   3     NaN      NaN  there is a forest fire at spot pond, geese are...\n",
       "3   9     NaN      NaN           Apocalypse lighting. #Spokane #wildfires\n",
       "4  11     NaN      NaN      Typhoon Soudelor kills 28 in China and Taiwan"
      ]
     },
     "execution_count": 7,
     "metadata": {
      "tags": []
     },
     "output_type": "execute_result"
    }
   ],
   "source": [
    "test.head()"
   ]
  },
  {
   "cell_type": "code",
   "execution_count": 0,
   "metadata": {
    "colab": {
     "base_uri": "https://localhost:8080/",
     "height": 85
    },
    "colab_type": "code",
    "executionInfo": {
     "elapsed": 2595,
     "status": "ok",
     "timestamp": 1578649801971,
     "user": {
      "displayName": "sandeep panchal",
      "photoUrl": "https://lh3.googleusercontent.com/a-/AAuE7mCDqp8ZcyRAywNG1QL_TT0dbqm_TRCL6CyGzR511w=s64",
      "userId": "16028125481769875260"
     },
     "user_tz": -330
    },
    "id": "EQa5DoQpH1dX",
    "outputId": "963a8f4c-e63a-4867-caf9-fe956686b220"
   },
   "outputs": [
    {
     "name": "stdout",
     "output_type": "stream",
     "text": [
      "\n",
      "keyword column has 26 null values\n",
      "\n",
      "location column has 1105 null values\n"
     ]
    }
   ],
   "source": [
    "col = test.columns\n",
    "\n",
    "for i in range(len(col)-1):\n",
    "    if test[col[i]].isnull().sum() != 0:\n",
    "        c = test[col[i]].isnull().sum()\n",
    "        print('\\n{} column has {} null values'.format(col[i], c))"
   ]
  },
  {
   "cell_type": "code",
   "execution_count": 0,
   "metadata": {
    "colab": {
     "base_uri": "https://localhost:8080/",
     "height": 85
    },
    "colab_type": "code",
    "executionInfo": {
     "elapsed": 2157,
     "status": "ok",
     "timestamp": 1578578014353,
     "user": {
      "displayName": "sandeep panchal",
      "photoUrl": "https://lh3.googleusercontent.com/a-/AAuE7mCDqp8ZcyRAywNG1QL_TT0dbqm_TRCL6CyGzR511w=s64",
      "userId": "16028125481769875260"
     },
     "user_tz": -330
    },
    "id": "7VebQUnoIKLQ",
    "outputId": "3a8e6152-4264-44c1-bdf3-4a53648dbb2f"
   },
   "outputs": [
    {
     "name": "stdout",
     "output_type": "stream",
     "text": [
      "\n",
      "Percentage of null values in keyword: 0.797\n",
      "\n",
      "Percentage of null values in location: 33.865\n"
     ]
    }
   ],
   "source": [
    "print('\\nPercentage of null values in keyword:', round((test.keyword.isnull().sum() / test.shape[0]) * 100, 3))\n",
    "print('\\nPercentage of null values in location:', round((test.location.isnull().sum() / test.shape[0]) * 100, 3))"
   ]
  },
  {
   "cell_type": "code",
   "execution_count": 0,
   "metadata": {
    "colab": {
     "base_uri": "https://localhost:8080/",
     "height": 85
    },
    "colab_type": "code",
    "executionInfo": {
     "elapsed": 1795,
     "status": "ok",
     "timestamp": 1578578014357,
     "user": {
      "displayName": "sandeep panchal",
      "photoUrl": "https://lh3.googleusercontent.com/a-/AAuE7mCDqp8ZcyRAywNG1QL_TT0dbqm_TRCL6CyGzR511w=s64",
      "userId": "16028125481769875260"
     },
     "user_tz": -330
    },
    "id": "fK2r-wjsIXT7",
    "outputId": "dfc23b2d-cd00-41ab-f19e-e3fbfeac00be"
   },
   "outputs": [
    {
     "name": "stdout",
     "output_type": "stream",
     "text": [
      "Number of unique values in keyword: 221 \n",
      "\n",
      "Number of unique values in location: 1602 \n",
      "\n"
     ]
    }
   ],
   "source": [
    "print('Number of unique values in keyword:', test.keyword.nunique(), '\\n')\n",
    "print('Number of unique values in location:', test.location.nunique(), '\\n')"
   ]
  },
  {
   "cell_type": "markdown",
   "metadata": {
    "colab_type": "text",
    "id": "kxOpNpLXT3sX"
   },
   "source": [
    "# Working on Train data"
   ]
  },
  {
   "cell_type": "code",
   "execution_count": 0,
   "metadata": {
    "colab": {},
    "colab_type": "code",
    "id": "dHJIkU6_nsaV"
   },
   "outputs": [],
   "source": [
    "import copy\n",
    "dfe = copy.deepcopy(df)"
   ]
  },
  {
   "cell_type": "code",
   "execution_count": 0,
   "metadata": {
    "colab": {},
    "colab_type": "code",
    "id": "wb0LYKfuvyD7"
   },
   "outputs": [],
   "source": [
    "# Keyword column\n",
    "# Filling na with previous data point\n",
    "# Before that we will fill null values with string 'null' for better detection\n",
    "\n",
    "dfe['keyword'].fillna('nul', inplace = True)\n",
    "\n",
    "for i in range(32):\n",
    "    if dfe['keyword'][i] != 'nul':\n",
    "        dfe['keyword'][0] = dfe['keyword'][i]\n",
    "\n",
    "\n",
    "# Now replacing 'null' string with previous values.\n",
    "for i in range(dfe.shape[0]):\n",
    "    if dfe['keyword'][i] == 'nul':\n",
    "        dfe['keyword'][i] = dfe['keyword'][i-1]"
   ]
  },
  {
   "cell_type": "code",
   "execution_count": 0,
   "metadata": {
    "colab": {},
    "colab_type": "code",
    "id": "7KofDAaHohRj"
   },
   "outputs": [],
   "source": [
    "# Location column\n",
    "# Filling na with previous data point\n",
    "# Before that we will fill null values with string 'null' for better detection\n",
    "\n",
    "dfe['location'].fillna('nul', inplace = True)\n",
    "\n",
    "for i in range(32):\n",
    "    if dfe['location'][i] != 'nul':\n",
    "        dfe['location'][0] = dfe['location'][i]\n",
    "\n",
    "\n",
    "# Now replacing 'null' string with previous values.\n",
    "for i in range(dfe.shape[0]):\n",
    "    if dfe['location'][i] == 'nul':\n",
    "        dfe['location'][i] = dfe['location'][i-1]"
   ]
  },
  {
   "cell_type": "code",
   "execution_count": 12,
   "metadata": {
    "colab": {
     "base_uri": "https://localhost:8080/",
     "height": 34
    },
    "colab_type": "code",
    "executionInfo": {
     "elapsed": 2729,
     "status": "ok",
     "timestamp": 1578719193653,
     "user": {
      "displayName": "sandeep panchal",
      "photoUrl": "https://lh3.googleusercontent.com/a-/AAuE7mCDqp8ZcyRAywNG1QL_TT0dbqm_TRCL6CyGzR511w=s64",
      "userId": "16028125481769875260"
     },
     "user_tz": -330
    },
    "id": "m1Q81KdaITQq",
    "outputId": "a978320c-5c72-4f9f-b2cd-1fb2e782e281"
   },
   "outputs": [
    {
     "name": "stderr",
     "output_type": "stream",
     "text": [
      "100%|██████████| 7613/7613 [00:01<00:00, 4016.09it/s]\n"
     ]
    }
   ],
   "source": [
    "from tqdm import tqdm\n",
    "\n",
    "loc_train_clean = []\n",
    "\n",
    "for i, s in enumerate(tqdm(dfe['location'].values)):\n",
    "    \n",
    "    u = url(s)\n",
    "    sf = short_form(u)\n",
    "    pu = punc(sf)\n",
    "    loc_train_clean.append(pu)"
   ]
  },
  {
   "cell_type": "code",
   "execution_count": 13,
   "metadata": {
    "colab": {
     "base_uri": "https://localhost:8080/",
     "height": 34
    },
    "colab_type": "code",
    "executionInfo": {
     "elapsed": 14286,
     "status": "ok",
     "timestamp": 1578719205571,
     "user": {
      "displayName": "sandeep panchal",
      "photoUrl": "https://lh3.googleusercontent.com/a-/AAuE7mCDqp8ZcyRAywNG1QL_TT0dbqm_TRCL6CyGzR511w=s64",
      "userId": "16028125481769875260"
     },
     "user_tz": -330
    },
    "id": "F16rvClnU9fo",
    "outputId": "29f16ac3-031a-49cc-d175-b3f409c9cbba"
   },
   "outputs": [
    {
     "name": "stderr",
     "output_type": "stream",
     "text": [
      "100%|██████████| 7613/7613 [00:11<00:00, 646.30it/s]\n"
     ]
    }
   ],
   "source": [
    "from tqdm import tqdm\n",
    "\n",
    "text_train_clean = []\n",
    "\n",
    "for i, s in enumerate(tqdm(dfe['text'].values)):\n",
    "    \n",
    "    u = url(s)\n",
    "    sf = short_form(u)\n",
    "    pu = punc(sf)\n",
    "    text_train_clean.append(pu)"
   ]
  },
  {
   "cell_type": "code",
   "execution_count": 14,
   "metadata": {
    "colab": {
     "base_uri": "https://localhost:8080/",
     "height": 68
    },
    "colab_type": "code",
    "executionInfo": {
     "elapsed": 4891,
     "status": "ok",
     "timestamp": 1578719205577,
     "user": {
      "displayName": "sandeep panchal",
      "photoUrl": "https://lh3.googleusercontent.com/a-/AAuE7mCDqp8ZcyRAywNG1QL_TT0dbqm_TRCL6CyGzR511w=s64",
      "userId": "16028125481769875260"
     },
     "user_tz": -330
    },
    "id": "e0Vr8IWWI0YC",
    "outputId": "7569c8b6-8718-43b5-8f18-e285f531a47d"
   },
   "outputs": [
    {
     "name": "stdout",
     "output_type": "stream",
     "text": [
      "\n",
      "-> Preprocessed text data:\n",
      "\n"
     ]
    }
   ],
   "source": [
    "print('\\n-> Preprocessed text data:\\n')\n",
    "\n",
    "dfe['location'] = loc_train_clean\n",
    "\n",
    "dfe['text'] = text_train_clean"
   ]
  },
  {
   "cell_type": "code",
   "execution_count": 0,
   "metadata": {
    "colab": {},
    "colab_type": "code",
    "id": "1A6vgWutUgb2"
   },
   "outputs": [],
   "source": [
    "dfc = copy.deepcopy(dfe)\n",
    "\n",
    "# dfc.to_csv('train_clean.csv', index = False)"
   ]
  },
  {
   "cell_type": "markdown",
   "metadata": {
    "colab_type": "text",
    "id": "kLBBAH-pJcrZ"
   },
   "source": [
    "# Working on Test data"
   ]
  },
  {
   "cell_type": "code",
   "execution_count": 0,
   "metadata": {
    "colab": {},
    "colab_type": "code",
    "id": "05IDaa7SJeCZ"
   },
   "outputs": [],
   "source": [
    "teste = copy.deepcopy(test)"
   ]
  },
  {
   "cell_type": "code",
   "execution_count": 0,
   "metadata": {
    "colab": {},
    "colab_type": "code",
    "id": "RR83mJoWITk2"
   },
   "outputs": [],
   "source": [
    "# Keyword column\n",
    "# Filling na with previous data point\n",
    "# Before that we will fill null values with string 'null' for better detection\n",
    "\n",
    "teste['keyword'].fillna('nul', inplace = True)\n",
    "\n",
    "for i in range(20):\n",
    "    if teste['keyword'][i] != 'nul':\n",
    "        teste['keyword'][0] = teste['keyword'][i]\n",
    "\n",
    "\n",
    "# Now replacing 'null' string with previous values.\n",
    "for i in range(teste.shape[0]):\n",
    "    if teste['keyword'][i] == 'nul':\n",
    "        teste['keyword'][i] = teste['keyword'][i-1]"
   ]
  },
  {
   "cell_type": "code",
   "execution_count": 0,
   "metadata": {
    "colab": {},
    "colab_type": "code",
    "id": "TSCzA1sPKZjw"
   },
   "outputs": [],
   "source": [
    "# Location column\n",
    "# Filling na with previous data point\n",
    "# Before that we will fill null values with string 'null' for better detection\n",
    "\n",
    "teste['location'].fillna('nul', inplace = True)\n",
    "\n",
    "for i in range(32):\n",
    "    if teste['location'][i] != 'nul':\n",
    "        teste['location'][0] = teste['location'][i]\n",
    "\n",
    "\n",
    "# Now replacing 'null' string with previous values.\n",
    "for i in range(test.shape[0]):\n",
    "    if teste['location'][i] == 'nul':\n",
    "        teste['location'][i] = teste['location'][i-1]"
   ]
  },
  {
   "cell_type": "code",
   "execution_count": 20,
   "metadata": {
    "colab": {
     "base_uri": "https://localhost:8080/",
     "height": 34
    },
    "colab_type": "code",
    "executionInfo": {
     "elapsed": 1940,
     "status": "ok",
     "timestamp": 1578719274641,
     "user": {
      "displayName": "sandeep panchal",
      "photoUrl": "https://lh3.googleusercontent.com/a-/AAuE7mCDqp8ZcyRAywNG1QL_TT0dbqm_TRCL6CyGzR511w=s64",
      "userId": "16028125481769875260"
     },
     "user_tz": -330
    },
    "id": "THyI9A6UKOaJ",
    "outputId": "8f2c8e7e-c65c-4ebd-de2e-ee314820464a"
   },
   "outputs": [
    {
     "name": "stderr",
     "output_type": "stream",
     "text": [
      "100%|██████████| 3263/3263 [00:00<00:00, 3845.86it/s]\n"
     ]
    }
   ],
   "source": [
    "from tqdm import tqdm\n",
    "\n",
    "loc_test_clean = []\n",
    "\n",
    "for i, s in enumerate(tqdm(teste['location'].values)):\n",
    "    \n",
    "    u = url(s)\n",
    "    sf = short_form(u)\n",
    "    pu = punc(sf)\n",
    "    loc_test_clean.append(pu)"
   ]
  },
  {
   "cell_type": "code",
   "execution_count": 21,
   "metadata": {
    "colab": {
     "base_uri": "https://localhost:8080/",
     "height": 34
    },
    "colab_type": "code",
    "executionInfo": {
     "elapsed": 6430,
     "status": "ok",
     "timestamp": 1578719281491,
     "user": {
      "displayName": "sandeep panchal",
      "photoUrl": "https://lh3.googleusercontent.com/a-/AAuE7mCDqp8ZcyRAywNG1QL_TT0dbqm_TRCL6CyGzR511w=s64",
      "userId": "16028125481769875260"
     },
     "user_tz": -330
    },
    "id": "9LIgROnFVY6t",
    "outputId": "8751afc3-f7f0-4c16-ae26-65f9a1cc3d35"
   },
   "outputs": [
    {
     "name": "stderr",
     "output_type": "stream",
     "text": [
      "100%|██████████| 3263/3263 [00:05<00:00, 644.50it/s]\n"
     ]
    }
   ],
   "source": [
    "from tqdm import tqdm\n",
    "\n",
    "text_test_clean = []\n",
    "\n",
    "for i, s in enumerate(tqdm(teste['text'].values)):\n",
    "    \n",
    "    u = url(s)\n",
    "    sf = short_form(u)\n",
    "    pu = punc(sf)\n",
    "    text_test_clean.append(pu)"
   ]
  },
  {
   "cell_type": "code",
   "execution_count": 22,
   "metadata": {
    "colab": {
     "base_uri": "https://localhost:8080/",
     "height": 68
    },
    "colab_type": "code",
    "executionInfo": {
     "elapsed": 3892,
     "status": "ok",
     "timestamp": 1578719281498,
     "user": {
      "displayName": "sandeep panchal",
      "photoUrl": "https://lh3.googleusercontent.com/a-/AAuE7mCDqp8ZcyRAywNG1QL_TT0dbqm_TRCL6CyGzR511w=s64",
      "userId": "16028125481769875260"
     },
     "user_tz": -330
    },
    "id": "rBGBtzeiVe2e",
    "outputId": "76277f06-ad6c-4c3e-c00c-d36208288d9e"
   },
   "outputs": [
    {
     "name": "stdout",
     "output_type": "stream",
     "text": [
      "\n",
      "-> Preprocessed text data:\n",
      "\n"
     ]
    }
   ],
   "source": [
    "print('\\n-> Preprocessed text data:\\n')\n",
    "\n",
    "teste['location'] = loc_test_clean\n",
    "\n",
    "teste['text'] = text_test_clean"
   ]
  },
  {
   "cell_type": "code",
   "execution_count": 0,
   "metadata": {
    "colab": {},
    "colab_type": "code",
    "id": "oqTVAUsKKOfr"
   },
   "outputs": [],
   "source": [
    "testc = copy.deepcopy(teste)\n",
    "\n",
    "# testc.to_csv('test_clean.csv', index = False)"
   ]
  },
  {
   "cell_type": "markdown",
   "metadata": {
    "colab_type": "text",
    "id": "QQy7pr0wpRmq"
   },
   "source": [
    "# Feature Engineering"
   ]
  },
  {
   "cell_type": "markdown",
   "metadata": {
    "colab_type": "text",
    "id": "zpBVgFjUbWtR"
   },
   "source": [
    "# Combining keyword, location and text columns"
   ]
  },
  {
   "cell_type": "code",
   "execution_count": 0,
   "metadata": {
    "colab": {},
    "colab_type": "code",
    "id": "zAfqpsJscYl6"
   },
   "outputs": [],
   "source": [
    "dfe['key_loc_text'] = dfe['keyword'] + dfe['location'] + dfe['text']\n",
    "\n",
    "teste['key_loc_text'] = teste['keyword'] + teste['location'] + teste['text']"
   ]
  },
  {
   "cell_type": "markdown",
   "metadata": {
    "colab_type": "text",
    "id": "XKyf7p5TcsHB"
   },
   "source": [
    "# Label Encoding on keyword column (categorical)"
   ]
  },
  {
   "cell_type": "code",
   "execution_count": 0,
   "metadata": {
    "colab": {},
    "colab_type": "code",
    "id": "XVCWJ_bJctUo"
   },
   "outputs": [],
   "source": [
    "from sklearn.preprocessing import LabelEncoder\n",
    "\n",
    "lb = LabelEncoder()\n",
    "\n",
    "dfe['keyword'] = lb.fit_transform(dfe['keyword'])\n",
    "\n",
    "teste['keyword'] = lb.transform(teste['keyword'])"
   ]
  },
  {
   "cell_type": "markdown",
   "metadata": {
    "colab_type": "text",
    "id": "TJ2twwJOHsYt"
   },
   "source": [
    "# BoW on combined text feature"
   ]
  },
  {
   "cell_type": "code",
   "execution_count": 0,
   "metadata": {
    "colab": {},
    "colab_type": "code",
    "id": "3tjgpLwndIF-"
   },
   "outputs": [],
   "source": [
    "# Import CountVectorizer library\n",
    "from sklearn.feature_extraction.text import CountVectorizer\n",
    "\n",
    "# Create an instance\n",
    "# Bi-gram\n",
    "cv_klt = CountVectorizer(ngram_range = (1, 2))\n",
    "\n",
    "# Fit and transform train data\n",
    "tr_klt_b = cv_klt.fit_transform(dfe['key_loc_text'])\n",
    "\n",
    "# Transform test data\n",
    "te_klt_b = cv_klt.transform(teste['key_loc_text'])"
   ]
  },
  {
   "cell_type": "markdown",
   "metadata": {
    "colab_type": "text",
    "id": "hhc_4jKfsMIL"
   },
   "source": [
    "# Feature Scaling"
   ]
  },
  {
   "cell_type": "code",
   "execution_count": 0,
   "metadata": {
    "colab": {},
    "colab_type": "code",
    "id": "kqTp7LqhdZ7Z"
   },
   "outputs": [],
   "source": [
    "# Import normalize library\n",
    "from sklearn.preprocessing import normalize\n",
    "\n",
    "# Normalize train data\n",
    "tr_klt_n = normalize(tr_klt_b)\n",
    "\n",
    "# Normalize test data\n",
    "te_klt_n = normalize(te_klt_b)"
   ]
  },
  {
   "cell_type": "markdown",
   "metadata": {
    "colab_type": "text",
    "id": "MhhOMkNZsOJg"
   },
   "source": [
    "# BoW on location column"
   ]
  },
  {
   "cell_type": "code",
   "execution_count": 0,
   "metadata": {
    "colab": {},
    "colab_type": "code",
    "id": "MRG_QR9LdffW"
   },
   "outputs": [],
   "source": [
    "# Import CountVectorizer library\n",
    "from sklearn.feature_extraction.text import CountVectorizer\n",
    "\n",
    "# Create an instance\n",
    "# Bi-gram\n",
    "cv_l = CountVectorizer(ngram_range = (1, 2))\n",
    "\n",
    "# Fit and transform train data\n",
    "tr_l_b = cv_l.fit_transform(dfe['location'])\n",
    "\n",
    "# Transform test data\n",
    "te_l_b = cv_l.transform(teste['location'])"
   ]
  },
  {
   "cell_type": "markdown",
   "metadata": {
    "colab_type": "text",
    "id": "sB7uowmpsSp5"
   },
   "source": [
    "# Feature scaling"
   ]
  },
  {
   "cell_type": "code",
   "execution_count": 0,
   "metadata": {
    "colab": {},
    "colab_type": "code",
    "id": "wNEoSw7ydIug"
   },
   "outputs": [],
   "source": [
    "# Import normalize library\n",
    "from sklearn.preprocessing import normalize\n",
    "\n",
    "# Normalize train data\n",
    "tr_l_n = normalize(tr_l_b)\n",
    "\n",
    "# Normalize test data\n",
    "te_l_n = normalize(te_l_b)"
   ]
  },
  {
   "cell_type": "markdown",
   "metadata": {
    "colab_type": "text",
    "id": "FgRDa8bEsUo0"
   },
   "source": [
    "# BoW on text column"
   ]
  },
  {
   "cell_type": "code",
   "execution_count": 0,
   "metadata": {
    "colab": {},
    "colab_type": "code",
    "id": "4992Iwg0nn6i"
   },
   "outputs": [],
   "source": [
    "# Import CountVectorizer library\n",
    "from sklearn.feature_extraction.text import CountVectorizer\n",
    "\n",
    "# Create an instance\n",
    "# Bi-gram\n",
    "cv_t = CountVectorizer(ngram_range = (1, 2))\n",
    "\n",
    "# Fit and transform train data\n",
    "tr_t_b = cv_t.fit_transform(dfe['text'])\n",
    "\n",
    "# Transform test data\n",
    "te_t_b = cv_t.transform(teste['text'])"
   ]
  },
  {
   "cell_type": "markdown",
   "metadata": {
    "colab_type": "text",
    "id": "mGrDY5VQsXeg"
   },
   "source": [
    "# Feature scaling"
   ]
  },
  {
   "cell_type": "code",
   "execution_count": 0,
   "metadata": {
    "colab": {},
    "colab_type": "code",
    "id": "4m4axVZ8LSIG"
   },
   "outputs": [],
   "source": [
    "# Import normalize library\n",
    "from sklearn.preprocessing import normalize\n",
    "\n",
    "# Normalize train data\n",
    "tr_t_n = normalize(tr_t_b)\n",
    "\n",
    "# Normalize test data\n",
    "te_t_n = normalize(te_t_b)"
   ]
  },
  {
   "cell_type": "markdown",
   "metadata": {
    "colab_type": "text",
    "id": "xv1NXGQ6safE"
   },
   "source": [
    "## Stacking all featurized data"
   ]
  },
  {
   "cell_type": "code",
   "execution_count": 0,
   "metadata": {
    "colab": {},
    "colab_type": "code",
    "id": "i5GX71L3eXHj"
   },
   "outputs": [],
   "source": [
    "# Reshaping so as to hstack\n",
    "tr_key = dfe['keyword'].values.reshape(-1, 1)\n",
    "te_key = teste['keyword'].values.reshape(-1, 1)\n",
    "\n",
    "# Horizontal stacking\n",
    "from scipy.sparse import hstack\n",
    "x_tr_e = hstack((tr_key, tr_klt_n, tr_l_n, tr_t_n))\n",
    "x_te_e = hstack((te_key, te_klt_n, te_l_n, te_t_n))"
   ]
  },
  {
   "cell_type": "code",
   "execution_count": 0,
   "metadata": {
    "colab": {},
    "colab_type": "code",
    "id": "K0U9YDdBNezx"
   },
   "outputs": [],
   "source": [
    "# Assigning target variable to y\n",
    "y = dfe['target']"
   ]
  },
  {
   "cell_type": "code",
   "execution_count": 0,
   "metadata": {
    "colab": {},
    "colab_type": "code",
    "id": "EuF3vFp4QHZD"
   },
   "outputs": [],
   "source": []
  },
  {
   "cell_type": "markdown",
   "metadata": {
    "colab_type": "text",
    "id": "VOfOZ_weTLsx"
   },
   "source": [
    "# Algorithm: Naive Bayes"
   ]
  },
  {
   "cell_type": "code",
   "execution_count": 35,
   "metadata": {
    "colab": {
     "base_uri": "https://localhost:8080/",
     "height": 153
    },
    "colab_type": "code",
    "executionInfo": {
     "elapsed": 1512,
     "status": "ok",
     "timestamp": 1578719712982,
     "user": {
      "displayName": "sandeep panchal",
      "photoUrl": "https://lh3.googleusercontent.com/a-/AAuE7mCDqp8ZcyRAywNG1QL_TT0dbqm_TRCL6CyGzR511w=s64",
      "userId": "16028125481769875260"
     },
     "user_tz": -330
    },
    "id": "ZAaHcCd2TKab",
    "outputId": "70253a1f-b16d-441d-a2b8-f49d295fe2c3"
   },
   "outputs": [
    {
     "data": {
      "text/plain": [
       "GridSearchCV(cv=4, error_score=nan,\n",
       "             estimator=MultinomialNB(alpha=1.0, class_prior=None,\n",
       "                                     fit_prior=True),\n",
       "             iid='deprecated', n_jobs=None,\n",
       "             param_grid={'alpha': [1e-05, 0.0001, 0.001, 0.01, 0.1, 10, 100,\n",
       "                                   1000, 10000]},\n",
       "             pre_dispatch='2*n_jobs', refit=True, return_train_score=False,\n",
       "             scoring='f1', verbose=0)"
      ]
     },
     "execution_count": 35,
     "metadata": {
      "tags": []
     },
     "output_type": "execute_result"
    }
   ],
   "source": [
    "from sklearn.naive_bayes import MultinomialNB\n",
    "from sklearn.model_selection import GridSearchCV\n",
    "\n",
    "nbe = MultinomialNB()\n",
    "\n",
    "param = {'alpha': [0.00001, 0.0001, 0.001, 0.01, 0.1, 10, 100, 1000, 10000]}\n",
    "\n",
    "\n",
    "clf_nbe = GridSearchCV(estimator = nbe, param_grid = param, scoring = 'f1', cv = 4)\n",
    "\n",
    "clf_nbe.fit(x_tr_e, y)"
   ]
  },
  {
   "cell_type": "code",
   "execution_count": 36,
   "metadata": {
    "colab": {
     "base_uri": "https://localhost:8080/",
     "height": 136
    },
    "colab_type": "code",
    "executionInfo": {
     "elapsed": 1444,
     "status": "ok",
     "timestamp": 1578719716638,
     "user": {
      "displayName": "sandeep panchal",
      "photoUrl": "https://lh3.googleusercontent.com/a-/AAuE7mCDqp8ZcyRAywNG1QL_TT0dbqm_TRCL6CyGzR511w=s64",
      "userId": "16028125481769875260"
     },
     "user_tz": -330
    },
    "id": "K2sQmnoMTOHd",
    "outputId": "c72d3c3f-8d4e-474d-953c-61f450254a4e"
   },
   "outputs": [
    {
     "name": "stdout",
     "output_type": "stream",
     "text": [
      "\n",
      "-> Best score: 0.6558787007352466 \n",
      "\n",
      "************************************************** \n",
      "\n",
      "\n",
      "-> Best estimators: MultinomialNB(alpha=0.1, class_prior=None, fit_prior=True)\n"
     ]
    }
   ],
   "source": [
    "print('\\n-> Best score:', clf_nbe.best_score_, '\\n')\n",
    "print('*'*50, '\\n')\n",
    "\n",
    "print('\\n-> Best estimators:', clf_nbe.best_estimator_)"
   ]
  },
  {
   "cell_type": "markdown",
   "metadata": {
    "colab_type": "text",
    "id": "LpvjLcyYB4cx"
   },
   "source": [
    "# Predicting test data"
   ]
  },
  {
   "cell_type": "code",
   "execution_count": 0,
   "metadata": {
    "colab": {},
    "colab_type": "code",
    "id": "AYZuoVdBUWz4"
   },
   "outputs": [],
   "source": [
    "# Predicting test data\n",
    "nbe_pre = clf_nbe.predict(x_te_e)\n",
    "\n",
    "# Getting a copy of submission file\n",
    "sub_nb_e = copy.deepcopy(submission)\n",
    "\n",
    "# Mapping all predicted data with submission file\n",
    "sub_nb_e['target'] = nbe_pre\n",
    "\n",
    "# Saving final submission file\n",
    "sub_nb_e.to_csv('Naive_Bayes.csv', index = False)"
   ]
  },
  {
   "cell_type": "code",
   "execution_count": 0,
   "metadata": {
    "colab": {},
    "colab_type": "code",
    "id": "ruyaVDD9UjAt"
   },
   "outputs": [],
   "source": []
  },
  {
   "cell_type": "markdown",
   "metadata": {
    "colab_type": "text",
    "id": "M6o3vSbDUjVh"
   },
   "source": [
    "<center><h1>Deep Learning<h1>\n",
    "<center><h5>LSTM (Long Short Term Memory)<h5>"
   ]
  },
  {
   "cell_type": "markdown",
   "metadata": {
    "colab_type": "text",
    "id": "MNp_GqfGUtfg"
   },
   "source": [
    "# Uploading Glove vector to notebook"
   ]
  },
  {
   "cell_type": "code",
   "execution_count": 38,
   "metadata": {
    "colab": {
     "base_uri": "https://localhost:8080/",
     "height": 204
    },
    "colab_type": "code",
    "executionInfo": {
     "elapsed": 393913,
     "status": "ok",
     "timestamp": 1578720274621,
     "user": {
      "displayName": "sandeep panchal",
      "photoUrl": "https://lh3.googleusercontent.com/a-/AAuE7mCDqp8ZcyRAywNG1QL_TT0dbqm_TRCL6CyGzR511w=s64",
      "userId": "16028125481769875260"
     },
     "user_tz": -330
    },
    "id": "bTsFzWJ2UvBN",
    "outputId": "08abb0bb-a6d7-40e4-9563-90009084bcb0"
   },
   "outputs": [
    {
     "name": "stdout",
     "output_type": "stream",
     "text": [
      "--2020-01-11 05:18:03--  http://downloads.cs.stanford.edu/nlp/data/glove.6B.zip\n",
      "Resolving downloads.cs.stanford.edu (downloads.cs.stanford.edu)... 171.64.64.22\n",
      "Connecting to downloads.cs.stanford.edu (downloads.cs.stanford.edu)|171.64.64.22|:80... connected.\n",
      "HTTP request sent, awaiting response... 200 OK\n",
      "Length: 862182613 (822M) [application/zip]\n",
      "Saving to: ‘glove.6B.zip’\n",
      "\n",
      "glove.6B.zip        100%[===================>] 822.24M  1.99MB/s    in 6m 30s  \n",
      "\n",
      "2020-01-11 05:24:34 (2.11 MB/s) - ‘glove.6B.zip’ saved [862182613/862182613]\n",
      "\n"
     ]
    }
   ],
   "source": [
    "!wget --header=\"Host: downloads.cs.stanford.edu\" --header=\"User-Agent: Mozilla/5.0 (Windows NT 6.1; Win64; x64) AppleWebKit/537.36 (KHTML, like Gecko) Chrome/79.0.3945.88 Safari/537.36\" --header=\"Accept: text/html,application/xhtml+xml,application/xml;q=0.9,image/webp,image/apng,*/*;q=0.8,application/signed-exchange;v=b3;q=0.9\" --header=\"Accept-Language: en-IN,en-GB;q=0.9,en-US;q=0.8,en;q=0.7\" --header=\"Cookie: _ga=GA1.2.1427375684.1564236587; _gid=GA1.2.1756276653.1578506617; _gat=1\" --header=\"Connection: keep-alive\" \"http://downloads.cs.stanford.edu/nlp/data/glove.6B.zip\" -O \"glove.6B.zip\" -c"
   ]
  },
  {
   "cell_type": "code",
   "execution_count": 39,
   "metadata": {
    "colab": {
     "base_uri": "https://localhost:8080/",
     "height": 204
    },
    "colab_type": "code",
    "executionInfo": {
     "elapsed": 397458,
     "status": "ok",
     "timestamp": 1578720282125,
     "user": {
      "displayName": "sandeep panchal",
      "photoUrl": "https://lh3.googleusercontent.com/a-/AAuE7mCDqp8ZcyRAywNG1QL_TT0dbqm_TRCL6CyGzR511w=s64",
      "userId": "16028125481769875260"
     },
     "user_tz": -330
    },
    "id": "7soHWwzUUzrL",
    "outputId": "baa3c71a-ab98-4c79-8b57-8250ae6b8cd8"
   },
   "outputs": [
    {
     "name": "stdout",
     "output_type": "stream",
     "text": [
      "Collecting pyunpack\n",
      "  Downloading https://files.pythonhosted.org/packages/79/dc/44cd41fb99d184ae7c2eac439a52ca624d5ece62b0302c3437fcc4ce3b58/pyunpack-0.1.2.tar.gz\n",
      "Collecting easyprocess\n",
      "  Downloading https://files.pythonhosted.org/packages/7e/63/57755fadd28c989d578862f1ed7995348ed666333e03cdab6f6ea3f26ab0/EasyProcess-0.2.8-py2.py3-none-any.whl\n",
      "Building wheels for collected packages: pyunpack\n",
      "  Building wheel for pyunpack (setup.py) ... \u001b[?25l\u001b[?25hdone\n",
      "  Created wheel for pyunpack: filename=pyunpack-0.1.2-cp36-none-any.whl size=5162 sha256=0b2325a3b7431c9ec358eb3f19025ec7b3bbefce42f67a600c976a8d6ec74715\n",
      "  Stored in directory: /root/.cache/pip/wheels/af/44/08/60613970881e542c0baad1f2dea5ed8e6716bc573f49197b7e\n",
      "Successfully built pyunpack\n",
      "Installing collected packages: easyprocess, pyunpack\n",
      "Successfully installed easyprocess-0.2.8 pyunpack-0.1.2\n"
     ]
    }
   ],
   "source": [
    "!pip install pyunpack"
   ]
  },
  {
   "cell_type": "code",
   "execution_count": 0,
   "metadata": {
    "colab": {},
    "colab_type": "code",
    "id": "bL9dUY3OVE2J"
   },
   "outputs": [],
   "source": [
    "from pyunpack import Archive\n",
    "Archive('glove.6B.zip').extractall('/content/')"
   ]
  },
  {
   "cell_type": "code",
   "execution_count": 0,
   "metadata": {
    "colab": {},
    "colab_type": "code",
    "id": "NSpWcxvuZNRU"
   },
   "outputs": [],
   "source": [
    "# https://nlp.stanford.edu/projects/glove/"
   ]
  },
  {
   "cell_type": "markdown",
   "metadata": {
    "colab_type": "text",
    "id": "Dz0AtbIXqbhA"
   },
   "source": [
    "# Loading the glove file"
   ]
  },
  {
   "cell_type": "code",
   "execution_count": 42,
   "metadata": {
    "colab": {
     "base_uri": "https://localhost:8080/",
     "height": 34
    },
    "colab_type": "code",
    "executionInfo": {
     "elapsed": 28139,
     "status": "ok",
     "timestamp": 1578720346942,
     "user": {
      "displayName": "sandeep panchal",
      "photoUrl": "https://lh3.googleusercontent.com/a-/AAuE7mCDqp8ZcyRAywNG1QL_TT0dbqm_TRCL6CyGzR511w=s64",
      "userId": "16028125481769875260"
     },
     "user_tz": -330
    },
    "id": "EsiuxdwLZkMc",
    "outputId": "82a8efdc-4e5f-41c8-963e-cb41375cfa6a"
   },
   "outputs": [
    {
     "name": "stdout",
     "output_type": "stream",
     "text": [
      "glove_dic has 400000 vector words\n"
     ]
    }
   ],
   "source": [
    "glove_dic = {}              # Stores the glove words and corresponding values\n",
    "\n",
    "with open('/content/glove.6B.300d.txt') as f:\n",
    "\n",
    "    for line in f:\n",
    "        line_split = line.split()\n",
    "        words = line_split[0]\n",
    "        vec = np.asarray(line_split[1:], dtype = 'float32')\n",
    "        glove_dic[words] = vec\n",
    "\n",
    "print(\"glove_dic has {} vector words\".format(len(glove_dic)))\n"
   ]
  },
  {
   "cell_type": "code",
   "execution_count": 43,
   "metadata": {
    "colab": {
     "base_uri": "https://localhost:8080/",
     "height": 1000
    },
    "colab_type": "code",
    "executionInfo": {
     "elapsed": 22734,
     "status": "ok",
     "timestamp": 1578720346947,
     "user": {
      "displayName": "sandeep panchal",
      "photoUrl": "https://lh3.googleusercontent.com/a-/AAuE7mCDqp8ZcyRAywNG1QL_TT0dbqm_TRCL6CyGzR511w=s64",
      "userId": "16028125481769875260"
     },
     "user_tz": -330
    },
    "id": "MJ-Bzxp0mMZW",
    "outputId": "62865354-0081-4150-941a-abfba3633c28"
   },
   "outputs": [
    {
     "name": "stdout",
     "output_type": "stream",
     "text": [
      "\n",
      "Key word is dict_keys(['the'])\n",
      "Length of vector corresponding to key dict_keys(['the']) is 1\n",
      "Vector for the key dict_keys(['the']) \n",
      "\n",
      "\n",
      "dict_values([array([ 4.6560e-02,  2.1318e-01, -7.4364e-03, -4.5854e-01, -3.5639e-02,\n",
      "        2.3643e-01, -2.8836e-01,  2.1521e-01, -1.3486e-01, -1.6413e+00,\n",
      "       -2.6091e-01,  3.2434e-02,  5.6621e-02, -4.3296e-02, -2.1672e-02,\n",
      "        2.2476e-01, -7.5129e-02, -6.7018e-02, -1.4247e-01,  3.8825e-02,\n",
      "       -1.8951e-01,  2.9977e-01,  3.9305e-01,  1.7887e-01, -1.7343e-01,\n",
      "       -2.1178e-01,  2.3617e-01, -6.3681e-02, -4.2318e-01, -1.1661e-01,\n",
      "        9.3754e-02,  1.7296e-01, -3.3073e-01,  4.9112e-01, -6.8995e-01,\n",
      "       -9.2462e-02,  2.4742e-01, -1.7991e-01,  9.7908e-02,  8.3118e-02,\n",
      "        1.5299e-01, -2.7276e-01, -3.8934e-02,  5.4453e-01,  5.3737e-01,\n",
      "        2.9105e-01, -7.3514e-03,  4.7880e-02, -4.0760e-01, -2.6759e-02,\n",
      "        1.7919e-01,  1.0977e-02, -1.0963e-01, -2.6395e-01,  7.3990e-02,\n",
      "        2.6236e-01, -1.5080e-01,  3.4623e-01,  2.5758e-01,  1.1971e-01,\n",
      "       -3.7135e-02, -7.1593e-02,  4.3898e-01, -4.0764e-02,  1.6425e-02,\n",
      "       -4.4640e-01,  1.7197e-01,  4.6246e-02,  5.8639e-02,  4.1499e-02,\n",
      "        5.3948e-01,  5.2495e-01,  1.1361e-01, -4.8315e-02, -3.6385e-01,\n",
      "        1.8704e-01,  9.2761e-02, -1.1129e-01, -4.2085e-01,  1.3992e-01,\n",
      "       -3.9338e-01, -6.7945e-02,  1.2188e-01,  1.6707e-01,  7.5169e-02,\n",
      "       -1.5529e-02, -1.9499e-01,  1.9638e-01,  5.3194e-02,  2.5170e-01,\n",
      "       -3.4845e-01, -1.0638e-01, -3.4692e-01, -1.9024e-01, -2.0040e-01,\n",
      "        1.2154e-01, -2.9208e-01,  2.3353e-02, -1.1618e-01, -3.5768e-01,\n",
      "        6.2304e-02,  3.5884e-01,  2.9060e-02,  7.3005e-03,  4.9482e-03,\n",
      "       -1.5048e-01, -1.2313e-01,  1.9337e-01,  1.2173e-01,  4.4503e-01,\n",
      "        2.5147e-01,  1.0781e-01, -1.7716e-01,  3.8691e-02,  8.1530e-02,\n",
      "        1.4667e-01,  6.3666e-02,  6.1332e-02, -7.5569e-02, -3.7724e-01,\n",
      "        1.5850e-02, -3.0342e-01,  2.8374e-01, -4.2013e-02, -4.0715e-02,\n",
      "       -1.5269e-01,  7.4980e-02,  1.5577e-01,  1.0433e-01,  3.1393e-01,\n",
      "        1.9309e-01,  1.9429e-01,  1.5185e-01, -1.0192e-01, -1.8785e-02,\n",
      "        2.0791e-01,  1.3366e-01,  1.9038e-01, -2.5558e-01,  3.0400e-01,\n",
      "       -1.8960e-02,  2.0147e-01, -4.2110e-01, -7.5156e-03, -2.7977e-01,\n",
      "       -1.9314e-01,  4.6204e-02,  1.9971e-01, -3.0207e-01,  2.5735e-01,\n",
      "        6.8107e-01, -1.9409e-01,  2.3984e-01,  2.2493e-01,  6.5224e-01,\n",
      "       -1.3561e-01, -1.7383e-01, -4.8209e-02, -1.1860e-01,  2.1588e-03,\n",
      "       -1.9525e-02,  1.1948e-01,  1.9346e-01, -4.0820e-01, -8.2966e-02,\n",
      "        1.6626e-01, -1.0601e-01,  3.5861e-01,  1.6922e-01,  7.2590e-02,\n",
      "       -2.4803e-01, -1.0024e-01, -5.2491e-01, -1.7745e-01, -3.6647e-01,\n",
      "        2.6180e-01, -1.2077e-02,  8.3190e-02, -2.1528e-01,  4.1045e-01,\n",
      "        2.9136e-01,  3.0869e-01,  7.8864e-02,  3.2207e-01, -4.1023e-02,\n",
      "       -1.0970e-01, -9.2041e-02, -1.2339e-01, -1.6416e-01,  3.5382e-01,\n",
      "       -8.2774e-02,  3.3171e-01, -2.4738e-01, -4.8928e-02,  1.5746e-01,\n",
      "        1.8988e-01, -2.6642e-02,  6.3315e-02, -1.0673e-02,  3.4089e-01,\n",
      "        1.4106e+00,  1.3417e-01,  2.8191e-01, -2.5940e-01,  5.5267e-02,\n",
      "       -5.2425e-02, -2.5789e-01,  1.9127e-02, -2.2084e-02,  3.2113e-01,\n",
      "        6.8818e-02,  5.1207e-01,  1.6478e-01, -2.0194e-01,  2.9232e-01,\n",
      "        9.8575e-02,  1.3145e-02, -1.0652e-01,  1.3510e-01, -4.5332e-02,\n",
      "        2.0697e-01, -4.8425e-01, -4.4706e-01,  3.3305e-03,  2.9264e-03,\n",
      "       -1.0975e-01, -2.3325e-01,  2.2442e-01, -1.0503e-01,  1.2339e-01,\n",
      "        1.0978e-01,  4.8994e-02, -2.5157e-01,  4.0319e-01,  3.5318e-01,\n",
      "        1.8651e-01, -2.3622e-02, -1.2734e-01,  1.1475e-01,  2.7359e-01,\n",
      "       -2.1866e-01,  1.5794e-02,  8.1754e-01, -2.3792e-02, -8.5469e-01,\n",
      "       -1.6203e-01,  1.8076e-01,  2.8014e-02, -1.4340e-01,  1.3139e-03,\n",
      "       -9.1735e-02, -8.9704e-02,  1.1105e-01, -1.6703e-01,  6.8377e-02,\n",
      "       -8.7388e-02, -3.9789e-02,  1.4184e-02,  2.1187e-01,  2.8579e-01,\n",
      "       -2.8797e-01, -5.8996e-02, -3.2436e-02, -4.7009e-03, -1.7052e-01,\n",
      "       -3.4741e-02, -1.1489e-01,  7.5093e-02,  9.9526e-02,  4.8183e-02,\n",
      "       -7.3775e-02, -4.1817e-01,  4.1268e-03,  4.4414e-01, -1.6062e-01,\n",
      "        1.4294e-01, -2.2628e+00, -2.7347e-02,  8.1311e-01,  7.7417e-01,\n",
      "       -2.5639e-01, -1.1576e-01, -1.1982e-01, -2.1363e-01,  2.8429e-02,\n",
      "        2.7261e-01,  3.1026e-02,  9.6782e-02,  6.7769e-03,  1.4082e-01,\n",
      "       -1.3064e-02, -2.9686e-01, -7.9913e-02,  1.9500e-01,  3.1549e-02,\n",
      "        2.8506e-01, -8.7461e-02,  9.0611e-03, -2.0989e-01,  5.3913e-02],\n",
      "      dtype=float32)])\n"
     ]
    }
   ],
   "source": [
    "import itertools\n",
    "\n",
    "#item = dict(list(glove_dic.items())[0:1])\n",
    "item = dict(itertools.islice(glove_dic.items(), 1))\n",
    "print(\"\\nKey word is\", item.keys())\n",
    "print(\"Length of vector corresponding to key {} is {}\".format(item.keys(), len(item.values())))\n",
    "\n",
    "print(\"Vector for the key {}\".format(item.keys()), '\\n\\n')\n",
    "\n",
    "print(item.values())"
   ]
  },
  {
   "cell_type": "code",
   "execution_count": 0,
   "metadata": {
    "colab": {},
    "colab_type": "code",
    "id": "CV1CvM0amP8w"
   },
   "outputs": [],
   "source": []
  },
  {
   "cell_type": "markdown",
   "metadata": {
    "colab_type": "text",
    "id": "J_jQHxKHxCDL"
   },
   "source": [
    "# Tokenize the words from the training set"
   ]
  },
  {
   "cell_type": "code",
   "execution_count": 0,
   "metadata": {
    "colab": {},
    "colab_type": "code",
    "id": "vzmO38i3B1md"
   },
   "outputs": [],
   "source": [
    "vocab_size = 100000\n",
    "seq_len = 500\n",
    "emb_dim = 300"
   ]
  },
  {
   "cell_type": "code",
   "execution_count": 45,
   "metadata": {
    "colab": {
     "base_uri": "https://localhost:8080/",
     "height": 80
    },
    "colab_type": "code",
    "executionInfo": {
     "elapsed": 8495,
     "status": "ok",
     "timestamp": 1578720348188,
     "user": {
      "displayName": "sandeep panchal",
      "photoUrl": "https://lh3.googleusercontent.com/a-/AAuE7mCDqp8ZcyRAywNG1QL_TT0dbqm_TRCL6CyGzR511w=s64",
      "userId": "16028125481769875260"
     },
     "user_tz": -330
    },
    "id": "vVBH-GiImnkD",
    "outputId": "1909afa4-1e24-4562-bb05-2078bce214c8"
   },
   "outputs": [
    {
     "name": "stderr",
     "output_type": "stream",
     "text": [
      "Using TensorFlow backend.\n"
     ]
    },
    {
     "data": {
      "text/html": [
       "<p style=\"color: red;\">\n",
       "The default version of TensorFlow in Colab will soon switch to TensorFlow 2.x.<br>\n",
       "We recommend you <a href=\"https://www.tensorflow.org/guide/migrate\" target=\"_blank\">upgrade</a> now \n",
       "or ensure your notebook will continue to use TensorFlow 1.x via the <code>%tensorflow_version 1.x</code> magic:\n",
       "<a href=\"https://colab.research.google.com/notebooks/tensorflow_version.ipynb\" target=\"_blank\">more info</a>.</p>\n"
      ],
      "text/plain": [
       "<IPython.core.display.HTML object>"
      ]
     },
     "metadata": {
      "tags": []
     },
     "output_type": "display_data"
    }
   ],
   "source": [
    "from keras.preprocessing.text import Tokenizer\n",
    "\n",
    "# Initializing Tokenizer\n",
    "t = Tokenizer(num_words = vocab_size)\n",
    "\n",
    "#Fitting on train set"
   ]
  },
  {
   "cell_type": "code",
   "execution_count": 0,
   "metadata": {
    "colab": {},
    "colab_type": "code",
    "id": "vtnWM1_OmpUc"
   },
   "outputs": [],
   "source": [
    "from keras.preprocessing.text import Tokenizer\n",
    "from numpy import zeros\n",
    "\n",
    "def token(train_col, test_col, vocab_size, emb_dim):\n",
    "\n",
    "    t = Tokenizer(num_words = vocab_size)\n",
    "\n",
    "    # fitting on train columns set\n",
    "    t.fit_on_texts(train_col)\n",
    "\n",
    "    # text sequence\n",
    "    tr_token = t.texts_to_sequences(train_col)\n",
    "    te_token = t.texts_to_sequences(test_col)\n",
    "\n",
    "    # Getting weight matrix\n",
    "    word_count = min(vocab_size, len(t.word_index) + 1)\n",
    "\n",
    "    emb_matrix = zeros((word_count, emb_dim))\n",
    "    \n",
    "    for word, i in t.word_index.items():\n",
    "        emb_vec = glove_dic.get(word)\n",
    "        if emb_vec is not None:\n",
    "            emb_matrix[i] = emb_vec\n",
    "\n",
    "    print(\"Number for unique words in train data:\", len(t.word_index) + 1)\n",
    "    print(\"Shape of weight matrix:\", emb_matrix.shape)\n",
    "    print(\"Length of word_index\", len(t.word_index))\n",
    "\n",
    "    return tr_token, te_token, emb_matrix, len(t.word_index)"
   ]
  },
  {
   "cell_type": "markdown",
   "metadata": {
    "colab_type": "text",
    "id": "wFsd6_GzFSKP"
   },
   "source": [
    "# Padding sequence"
   ]
  },
  {
   "cell_type": "code",
   "execution_count": 0,
   "metadata": {
    "colab": {},
    "colab_type": "code",
    "id": "bu5g2erOm7hT"
   },
   "outputs": [],
   "source": [
    "from keras.preprocessing.sequence import pad_sequences\n",
    "\n",
    "def pad_seq(tr_token, te_token):\n",
    "\n",
    "    tr_pad = pad_sequences(tr_token, maxlen = seq_len, padding = 'post', truncating = 'post')\n",
    "    te_pad = pad_sequences(te_token, maxlen = seq_len, padding = 'post', truncating = 'post')\n",
    "\n",
    "    print(\"Shape of padded train:\", tr_pad.shape)\n",
    "    print(\"Shape of padded test:\", te_pad.shape)\n",
    "\n",
    "    return tr_pad, te_pad\n"
   ]
  },
  {
   "cell_type": "code",
   "execution_count": 0,
   "metadata": {
    "colab": {},
    "colab_type": "code",
    "id": "UD4Bh3hDaqsE"
   },
   "outputs": [],
   "source": [
    "#dfe['key_loc_text'] = dfe['keyword'] + dfe['location'] + dfe['text']\n",
    "\n",
    "#teste['key_loc_text'] = teste['keyword'] + teste['location'] + teste['text']"
   ]
  },
  {
   "cell_type": "markdown",
   "metadata": {
    "colab_type": "text",
    "id": "z7jpqFTOIlii"
   },
   "source": [
    "# Calling token function to tokenzie and get weight matrix"
   ]
  },
  {
   "cell_type": "markdown",
   "metadata": {
    "colab_type": "text",
    "id": "sCtLH3JhEg6P"
   },
   "source": [
    "# Combined feature column"
   ]
  },
  {
   "cell_type": "code",
   "execution_count": 49,
   "metadata": {
    "colab": {
     "base_uri": "https://localhost:8080/",
     "height": 68
    },
    "colab_type": "code",
    "executionInfo": {
     "elapsed": 2189,
     "status": "ok",
     "timestamp": 1578720445469,
     "user": {
      "displayName": "sandeep panchal",
      "photoUrl": "https://lh3.googleusercontent.com/a-/AAuE7mCDqp8ZcyRAywNG1QL_TT0dbqm_TRCL6CyGzR511w=s64",
      "userId": "16028125481769875260"
     },
     "user_tz": -330
    },
    "id": "f9vjjfekbQwa",
    "outputId": "4bdc6566-370c-42a9-a4c0-69f677acdcba"
   },
   "outputs": [
    {
     "name": "stdout",
     "output_type": "stream",
     "text": [
      "Number for unique words in train data: 21593\n",
      "Shape of weight matrix: (21593, 300)\n",
      "Length of word_index 21592\n"
     ]
    }
   ],
   "source": [
    "tr_token_e, te_token_e, emb_matrix_e, fe_ind_len = token(dfe['key_loc_text'], teste['key_loc_text'], vocab_size, emb_dim) "
   ]
  },
  {
   "cell_type": "markdown",
   "metadata": {
    "colab_type": "text",
    "id": "gUnbSnVNJPeO"
   },
   "source": [
    "# Text column"
   ]
  },
  {
   "cell_type": "code",
   "execution_count": 50,
   "metadata": {
    "colab": {
     "base_uri": "https://localhost:8080/",
     "height": 68
    },
    "colab_type": "code",
    "executionInfo": {
     "elapsed": 1353,
     "status": "ok",
     "timestamp": 1578720454502,
     "user": {
      "displayName": "sandeep panchal",
      "photoUrl": "https://lh3.googleusercontent.com/a-/AAuE7mCDqp8ZcyRAywNG1QL_TT0dbqm_TRCL6CyGzR511w=s64",
      "userId": "16028125481769875260"
     },
     "user_tz": -330
    },
    "id": "_8z6mWU8GscV",
    "outputId": "b2fffde2-b31d-4a66-c5c0-136564f38b68"
   },
   "outputs": [
    {
     "name": "stdout",
     "output_type": "stream",
     "text": [
      "Number for unique words in train data: 13115\n",
      "Shape of weight matrix: (13115, 300)\n",
      "Length of word_index 13114\n"
     ]
    }
   ],
   "source": [
    "tr_token_text, te_token_text, emb_matrix_text, text_ind_len = token(dfe['text'], teste['text'], vocab_size, emb_dim) "
   ]
  },
  {
   "cell_type": "markdown",
   "metadata": {
    "colab_type": "text",
    "id": "xkK_q-BhZ8qC"
   },
   "source": [
    "# Location column "
   ]
  },
  {
   "cell_type": "code",
   "execution_count": 51,
   "metadata": {
    "colab": {
     "base_uri": "https://localhost:8080/",
     "height": 68
    },
    "colab_type": "code",
    "executionInfo": {
     "elapsed": 1386,
     "status": "ok",
     "timestamp": 1578720468472,
     "user": {
      "displayName": "sandeep panchal",
      "photoUrl": "https://lh3.googleusercontent.com/a-/AAuE7mCDqp8ZcyRAywNG1QL_TT0dbqm_TRCL6CyGzR511w=s64",
      "userId": "16028125481769875260"
     },
     "user_tz": -330
    },
    "id": "AVZoyarwGjCP",
    "outputId": "0019a2e8-5d50-4b47-a441-5656127df0ea"
   },
   "outputs": [
    {
     "name": "stdout",
     "output_type": "stream",
     "text": [
      "Number for unique words in train data: 2905\n",
      "Shape of weight matrix: (2905, 300)\n",
      "Length of word_index 2904\n"
     ]
    }
   ],
   "source": [
    "tr_token_loc, te_token_loc, emb_matrix_loc, loc_ind_len = token(dfe['location'], teste['location'], vocab_size, emb_dim) "
   ]
  },
  {
   "cell_type": "markdown",
   "metadata": {
    "colab_type": "text",
    "id": "VzIoK_LnJmOd"
   },
   "source": [
    "# Calling padding function"
   ]
  },
  {
   "cell_type": "markdown",
   "metadata": {
    "colab_type": "text",
    "id": "9h9-HLDWbiyp"
   },
   "source": [
    "# Tokens for combine feature"
   ]
  },
  {
   "cell_type": "code",
   "execution_count": 52,
   "metadata": {
    "colab": {
     "base_uri": "https://localhost:8080/",
     "height": 51
    },
    "colab_type": "code",
    "executionInfo": {
     "elapsed": 1115,
     "status": "ok",
     "timestamp": 1578720486906,
     "user": {
      "displayName": "sandeep panchal",
      "photoUrl": "https://lh3.googleusercontent.com/a-/AAuE7mCDqp8ZcyRAywNG1QL_TT0dbqm_TRCL6CyGzR511w=s64",
      "userId": "16028125481769875260"
     },
     "user_tz": -330
    },
    "id": "Sz1YOfXIbkbO",
    "outputId": "d9c24813-d261-4f6f-ce46-b66e815ac90f"
   },
   "outputs": [
    {
     "name": "stdout",
     "output_type": "stream",
     "text": [
      "Shape of padded train: (7613, 500)\n",
      "Shape of padded test: (3263, 500)\n"
     ]
    }
   ],
   "source": [
    "tr_pad_e, te_pad_e = pad_seq(tr_token_e, te_token_e) "
   ]
  },
  {
   "cell_type": "markdown",
   "metadata": {
    "colab_type": "text",
    "id": "5OwqrPHeKEkU"
   },
   "source": [
    "# Tokens for text column"
   ]
  },
  {
   "cell_type": "code",
   "execution_count": 53,
   "metadata": {
    "colab": {
     "base_uri": "https://localhost:8080/",
     "height": 51
    },
    "colab_type": "code",
    "executionInfo": {
     "elapsed": 1097,
     "status": "ok",
     "timestamp": 1578720520996,
     "user": {
      "displayName": "sandeep panchal",
      "photoUrl": "https://lh3.googleusercontent.com/a-/AAuE7mCDqp8ZcyRAywNG1QL_TT0dbqm_TRCL6CyGzR511w=s64",
      "userId": "16028125481769875260"
     },
     "user_tz": -330
    },
    "id": "EPHr8a67JbOx",
    "outputId": "87f423a9-870c-4909-bc99-88a1b4d85fbc"
   },
   "outputs": [
    {
     "name": "stdout",
     "output_type": "stream",
     "text": [
      "Shape of padded train: (7613, 500)\n",
      "Shape of padded test: (3263, 500)\n"
     ]
    }
   ],
   "source": [
    "tr_pad_text, te_pad_text = pad_seq(tr_token_text, te_token_text) "
   ]
  },
  {
   "cell_type": "markdown",
   "metadata": {
    "colab_type": "text",
    "id": "U4PeyhpxKHqi"
   },
   "source": [
    "# Tokens for location column"
   ]
  },
  {
   "cell_type": "code",
   "execution_count": 54,
   "metadata": {
    "colab": {
     "base_uri": "https://localhost:8080/",
     "height": 51
    },
    "colab_type": "code",
    "executionInfo": {
     "elapsed": 1160,
     "status": "ok",
     "timestamp": 1578720532023,
     "user": {
      "displayName": "sandeep panchal",
      "photoUrl": "https://lh3.googleusercontent.com/a-/AAuE7mCDqp8ZcyRAywNG1QL_TT0dbqm_TRCL6CyGzR511w=s64",
      "userId": "16028125481769875260"
     },
     "user_tz": -330
    },
    "id": "gdKsfEvJKHLw",
    "outputId": "9796034d-11f3-4667-efab-328b4dae7516"
   },
   "outputs": [
    {
     "name": "stdout",
     "output_type": "stream",
     "text": [
      "Shape of padded train: (7613, 500)\n",
      "Shape of padded test: (3263, 500)\n"
     ]
    }
   ],
   "source": [
    "tr_pad_loc, te_pad_loc = pad_seq(tr_token_loc, te_token_loc) "
   ]
  },
  {
   "cell_type": "markdown",
   "metadata": {
    "colab_type": "text",
    "id": "CryJCTEMfkjp"
   },
   "source": [
    "# Embedding layers"
   ]
  },
  {
   "cell_type": "code",
   "execution_count": 0,
   "metadata": {
    "colab": {},
    "colab_type": "code",
    "id": "Y7hYbpdUKQUr"
   },
   "outputs": [],
   "source": [
    "from keras.layers import Embedding, Dense, Flatten, Input, Dropout, BatchNormalization, concatenate, LSTM, Bidirectional"
   ]
  },
  {
   "cell_type": "markdown",
   "metadata": {
    "colab_type": "text",
    "id": "Vfu2EJuuccPv"
   },
   "source": [
    "# Embedding layer for combined feature"
   ]
  },
  {
   "cell_type": "code",
   "execution_count": 0,
   "metadata": {
    "colab": {},
    "colab_type": "code",
    "id": "dd09bPtocd6z"
   },
   "outputs": [],
   "source": [
    "import warnings\n",
    "warnings.filterwarnings('ignore')\n",
    "\n",
    "input_size = min(vocab_size, fe_ind_len + 1)\n",
    "\n",
    "# Input layer\n",
    "e_lay = Input(shape = (seq_len,), name = 'FE_Layer')\n",
    "\n",
    "# Embedding layer\n",
    "e_emb = Embedding(input_dim = input_size, output_dim = emb_dim, input_length = seq_len, weights = [emb_matrix_e],\n",
    "                     trainable = False, name = 'FE_Embedding_Layer') (e_lay)\n",
    "\n",
    "# LSTM layer\n",
    "e_lstm = LSTM(128, return_sequences = True, dropout = 0.3) (e_emb)\n",
    "# e_lstm = Bidirectional(LSTM(128, return_sequences = True, dropout = 0.3))(e_emb)\n",
    "\n",
    "# Flatten layer\n",
    "e_flat = Flatten()(e_lstm)"
   ]
  },
  {
   "cell_type": "markdown",
   "metadata": {
    "colab_type": "text",
    "id": "Zp9udvVHcaLI"
   },
   "source": [
    "# Embedding layer for text feature"
   ]
  },
  {
   "cell_type": "code",
   "execution_count": 0,
   "metadata": {
    "colab": {},
    "colab_type": "code",
    "id": "Z42z20ZYgSCp"
   },
   "outputs": [],
   "source": [
    "import warnings\n",
    "warnings.filterwarnings('ignore')\n",
    "\n",
    "input_size = min(vocab_size, text_ind_len + 1)\n",
    "\n",
    "# Input layer\n",
    "text_lay = Input(shape = (seq_len,), name = 'Text_Layer')\n",
    "\n",
    "# Embedding layer\n",
    "text_emb = Embedding(input_dim = input_size, output_dim = emb_dim, input_length = seq_len, weights = [emb_matrix_text],\n",
    "                     trainable = False, name = 'Text_Embedding_Layer') (text_lay)\n",
    "\n",
    "# LSTM layer\n",
    "text_lstm = LSTM(128, return_sequences = True, dropout = 0.3) (text_emb)\n",
    "# text_lstm = Bidirectional(LSTM(128, return_sequences = True, dropout = 0.3)) (text_emb)\n",
    "\n",
    "# Flatten layer\n",
    "text_flat = Flatten()(text_lstm)"
   ]
  },
  {
   "cell_type": "markdown",
   "metadata": {
    "colab_type": "text",
    "id": "_pf7xhhSkGkX"
   },
   "source": [
    "# Embedding layer for location feature"
   ]
  },
  {
   "cell_type": "code",
   "execution_count": 0,
   "metadata": {
    "colab": {},
    "colab_type": "code",
    "id": "V-wZfEkai6RK"
   },
   "outputs": [],
   "source": [
    "import warnings\n",
    "warnings.filterwarnings('ignore')\n",
    "\n",
    "input_size = min(vocab_size, loc_ind_len + 1)\n",
    "\n",
    "# Input layer\n",
    "loc_lay = Input(shape = (seq_len,), name = 'Location_Layer')\n",
    "\n",
    "# Embedding layer\n",
    "loc_emb = Embedding(input_dim = input_size, output_dim = emb_dim, input_length = seq_len, weights = [emb_matrix_loc],\n",
    "                     trainable = False, name = 'Location_Embedding_Layer') (loc_lay)\n",
    "\n",
    "# LSTM layer\n",
    "loc_lstm = LSTM(128, return_sequences = True, dropout = 0.3) (loc_emb)\n",
    "# loc_lstm = Bidirectional(LSTM(128, return_sequences = True, dropout = 0.3)) (loc_emb)\n",
    "\n",
    "# Flatten layer\n",
    "loc_flat = Flatten()(loc_lstm)"
   ]
  },
  {
   "cell_type": "markdown",
   "metadata": {
    "colab_type": "text",
    "id": "irp5PGr2qF7s"
   },
   "source": [
    "# Embedding layer for keyword feature"
   ]
  },
  {
   "cell_type": "code",
   "execution_count": 0,
   "metadata": {
    "colab": {},
    "colab_type": "code",
    "id": "cHbJYb8pkl4V"
   },
   "outputs": [],
   "source": [
    "# Unique values\n",
    "tr_key_uni = dfe['keyword'].nunique()\n",
    "tr_key_emb_size = int(np.ceil((tr_key_uni) / 2))\n",
    "\n",
    "# Input layer\n",
    "tr_key_inp = Input(shape = (1, ), name = 'Keyword_Layer_1')\n",
    "\n",
    "# Embedding layer\n",
    "tr_key_emb = Embedding(input_dim = tr_key_uni, output_dim = tr_key_emb_size,\n",
    "                       trainable = True, name = 'Keyword_Embedding_1')(tr_key_inp)\n",
    "\n",
    "# Flatten\n",
    "tr_key_flat = Flatten()(tr_key_emb)"
   ]
  },
  {
   "cell_type": "code",
   "execution_count": 0,
   "metadata": {
    "colab": {},
    "colab_type": "code",
    "id": "S7dvRhhMrbwd"
   },
   "outputs": [],
   "source": [
    "from sklearn.preprocessing import LabelEncoder\n",
    "\n",
    "le = LabelEncoder()\n",
    "\n",
    "tr_key_encode = le.fit_transform(dfe['keyword'])\n",
    "te_key_encode = le.transform(teste['keyword'])"
   ]
  },
  {
   "cell_type": "markdown",
   "metadata": {
    "colab_type": "text",
    "id": "JikrtEef2_Jd"
   },
   "source": [
    "# Getting all padded and encoded data into a list"
   ]
  },
  {
   "cell_type": "code",
   "execution_count": 0,
   "metadata": {
    "colab": {},
    "colab_type": "code",
    "id": "P7sRR8oZ3Dyt"
   },
   "outputs": [],
   "source": [
    "tr_pad = [tr_pad_e, tr_pad_text, tr_pad_loc, tr_key_encode]\n",
    "\n",
    "te_pad = [te_pad_e, te_pad_text, te_pad_loc, te_key_encode]"
   ]
  },
  {
   "cell_type": "markdown",
   "metadata": {
    "colab_type": "text",
    "id": "cPHIHNP43bwj"
   },
   "source": [
    "# Keras model:\n",
    " - Activation - 'relu'\n",
    " - Output activation - 'sigmoid'.\n",
    " - Dropout - 0.3\n",
    " - kernel_regularizer - regularizers.l2(0.01)"
   ]
  },
  {
   "cell_type": "markdown",
   "metadata": {
    "colab_type": "text",
    "id": "tAgL-GHL2hE4"
   },
   "source": [
    "# Concatenate all flattend layers"
   ]
  },
  {
   "cell_type": "code",
   "execution_count": 0,
   "metadata": {
    "colab": {},
    "colab_type": "code",
    "id": "gvZJ4j9QvfAi"
   },
   "outputs": [],
   "source": [
    "con_lay = concatenate([e_flat, text_flat, loc_flat, tr_key_flat])"
   ]
  },
  {
   "cell_type": "code",
   "execution_count": 0,
   "metadata": {
    "colab": {},
    "colab_type": "code",
    "id": "rkJbjQ02vk0d"
   },
   "outputs": [],
   "source": [
    "from keras.models import Model\n",
    "from keras import regularizers, initializers\n",
    "\n",
    "# Layer 1\n",
    "m = Dense(256, activation = 'relu', kernel_regularizer = regularizers.l2(0.01))(con_lay)\n",
    "m = Dropout(0.3)(m)\n",
    "\n",
    "# Layer 2\n",
    "m = Dense(128, activation = 'relu', kernel_regularizer = regularizers.l2(0.01))(m)\n",
    "m = Dropout(0.3)(m)\n",
    "\n",
    "# Layer 3\n",
    "m = Dense(64, activation = 'relu', kernel_regularizer = regularizers.l2(0.01))(m)\n",
    "m = Dropout(0.3)(m)\n",
    "\n",
    "# Layer 4\n",
    "m = Dense(32, activation = 'relu', kernel_regularizer = regularizers.l2(0.01))(m)\n",
    "m = Dropout(0.3)(m)\n",
    "\n",
    "# Output layer\n",
    "output = Dense(2, activation = 'sigmoid', name= 'model_output')(m)\n",
    "\n",
    "# Model\n",
    "model_1 = Model(inputs = [e_lay, text_lay, loc_lay, tr_key_inp], outputs = [output])"
   ]
  },
  {
   "cell_type": "markdown",
   "metadata": {
    "colab_type": "text",
    "id": "I_Yb027l_U2H"
   },
   "source": [
    "# Network Architecture"
   ]
  },
  {
   "cell_type": "code",
   "execution_count": 81,
   "metadata": {
    "colab": {
     "base_uri": "https://localhost:8080/",
     "height": 773
    },
    "colab_type": "code",
    "executionInfo": {
     "elapsed": 3714,
     "status": "ok",
     "timestamp": 1578722641820,
     "user": {
      "displayName": "sandeep panchal",
      "photoUrl": "https://lh3.googleusercontent.com/a-/AAuE7mCDqp8ZcyRAywNG1QL_TT0dbqm_TRCL6CyGzR511w=s64",
      "userId": "16028125481769875260"
     },
     "user_tz": -330
    },
    "id": "6hX_fFArwDDP",
    "outputId": "cf6ef871-8dde-414c-815a-2a5af57d8d67"
   },
   "outputs": [
    {
     "data": {
      "image/png": "[encoded data removed]",
      "text/plain": [
       "<IPython.core.display.Image object>"
      ]
     },
     "execution_count": 81,
     "metadata": {
      "image/png": {
       "height": 756,
       "width": 1103
      },
      "tags": []
     },
     "output_type": "execute_result"
    }
   ],
   "source": [
    "# https://github.com/mmortazavi/EntityEmbedding-Working_Example/blob/master/EntityEmbedding.ipynb\n",
    "\n",
    "import pydot_ng as pydot\n",
    "from keras.utils import plot_model\n",
    "from IPython.display import Image\n",
    "\n",
    "plot_model(model_1, show_shapes = True, show_layer_names = True, to_file = 'model_2.png')\n",
    "\n",
    "Image(retina = True, filename = 'model_2.png')"
   ]
  },
  {
   "cell_type": "markdown",
   "metadata": {
    "colab_type": "text",
    "id": "fA7Mzqra_qJl"
   },
   "source": [
    "# Changing dependent variable to categorical"
   ]
  },
  {
   "cell_type": "code",
   "execution_count": 0,
   "metadata": {
    "colab": {},
    "colab_type": "code",
    "id": "UGNCkeaC_sfU"
   },
   "outputs": [],
   "source": [
    "from keras.utils import np_utils\n",
    "\n",
    "y_tr = np_utils.to_categorical(dfe['target'], 2)"
   ]
  },
  {
   "cell_type": "markdown",
   "metadata": {
    "colab_type": "text",
    "id": "h7dqx65WAwy2"
   },
   "source": [
    "# Callbacks - Earlystopping, Checkpoint and Tensorboard"
   ]
  },
  {
   "cell_type": "code",
   "execution_count": 0,
   "metadata": {
    "colab": {},
    "colab_type": "code",
    "id": "AapobREX_0wY"
   },
   "outputs": [],
   "source": [
    "import keras\n",
    "from keras.callbacks import TensorBoard, ModelCheckpoint, EarlyStopping\n",
    "\n",
    "# Saves the model after every epoch\n",
    "checkpoint_1 = ModelCheckpoint(\"model_2.h5\", monitor = \"val_loss\", mode = \"min\",\n",
    "                                save_best_only = True, verbose = 1)\n",
    "\n",
    "# Stops training when a monitored quantity has stopped improving.\n",
    "earlystop_1 = EarlyStopping(monitor = 'val_loss', mode = \"min\", patience = 5,\n",
    "                            verbose = 1, restore_best_weights = True)\n",
    "\n",
    "# TensorBoard is a visualization tool provided with TensorFlow.\n",
    "tensorboard_1 = TensorBoard(log_dir = \"graph_2\",\n",
    "                         histogram_freq = 0, batch_size = 500, write_graph = True,\n",
    "                         write_grads = False, write_images = False, embeddings_freq = 0,\n",
    "                         embeddings_layer_names = None, embeddings_metadata = None,\n",
    "                         embeddings_data = None, update_freq = 'epoch')\n",
    "\n",
    "# Creating Callback\n",
    "callback_1 = [checkpoint_1, earlystop_1, tensorboard_1]"
   ]
  },
  {
   "cell_type": "markdown",
   "metadata": {
    "colab_type": "text",
    "id": "FcJpJCRSBknt"
   },
   "source": [
    "# Compile data\n",
    "\n",
    " - Optimizer: adam\n",
    " - Loss: categorical_crossentropy\n",
    " - Metric: Accuracy"
   ]
  },
  {
   "cell_type": "code",
   "execution_count": 0,
   "metadata": {
    "colab": {},
    "colab_type": "code",
    "id": "qgbmt1t-Bgth"
   },
   "outputs": [],
   "source": [
    "import warnings\n",
    "warnings.filterwarnings('ignore')\n",
    "\n",
    "from keras.optimizers import Adam, RMSprop\n",
    "\n",
    "model_1.compile(optimizer = 'adam', loss = 'categorical_crossentropy', metrics = ['accuracy'])"
   ]
  },
  {
   "cell_type": "markdown",
   "metadata": {
    "colab_type": "text",
    "id": "LMshOs5BB2lq"
   },
   "source": [
    "# Training model\n",
    "\n",
    " - Batch size: 128\n",
    " - Epochs: 20\n",
    " - Validation split: 0.2 "
   ]
  },
  {
   "cell_type": "code",
   "execution_count": 74,
   "metadata": {
    "colab": {
     "base_uri": "https://localhost:8080/",
     "height": 1000
    },
    "colab_type": "code",
    "executionInfo": {
     "elapsed": 1502248,
     "status": "ok",
     "timestamp": 1578722400399,
     "user": {
      "displayName": "sandeep panchal",
      "photoUrl": "https://lh3.googleusercontent.com/a-/AAuE7mCDqp8ZcyRAywNG1QL_TT0dbqm_TRCL6CyGzR511w=s64",
      "userId": "16028125481769875260"
     },
     "user_tz": -330
    },
    "id": "58t_P4j5Bzlk",
    "outputId": "87c89611-ba58-4272-c1f4-ba1a1ee7f730"
   },
   "outputs": [
    {
     "name": "stdout",
     "output_type": "stream",
     "text": [
      "Train on 6090 samples, validate on 1523 samples\n",
      "Epoch 1/20\n",
      "6090/6090 [==============================] - 108s 18ms/step - loss: 2.9334 - acc: 0.7263 - val_loss: 1.7199 - val_acc: 0.7735\n",
      "\n",
      "Epoch 00001: val_loss improved from inf to 1.71991, saving model to model_2.h5\n",
      "WARNING:tensorflow:From /usr/local/lib/python3.6/dist-packages/keras/callbacks.py:1265: The name tf.Summary is deprecated. Please use tf.compat.v1.Summary instead.\n",
      "\n",
      "Epoch 2/20\n",
      "6090/6090 [==============================] - 108s 18ms/step - loss: 1.3635 - acc: 0.7780 - val_loss: 0.9907 - val_acc: 0.7925\n",
      "\n",
      "Epoch 00002: val_loss improved from 1.71991 to 0.99066, saving model to model_2.h5\n",
      "Epoch 3/20\n",
      "6090/6090 [==============================] - 108s 18ms/step - loss: 1.1821 - acc: 0.7811 - val_loss: 0.7949 - val_acc: 0.7846\n",
      "\n",
      "Epoch 00003: val_loss improved from 0.99066 to 0.79495, saving model to model_2.h5\n",
      "Epoch 4/20\n",
      "6090/6090 [==============================] - 109s 18ms/step - loss: 0.7132 - acc: 0.7993 - val_loss: 0.6637 - val_acc: 0.7820\n",
      "\n",
      "Epoch 00004: val_loss improved from 0.79495 to 0.66372, saving model to model_2.h5\n",
      "Epoch 5/20\n",
      "6090/6090 [==============================] - 110s 18ms/step - loss: 0.6112 - acc: 0.8079 - val_loss: 0.6159 - val_acc: 0.7840\n",
      "\n",
      "Epoch 00005: val_loss improved from 0.66372 to 0.61588, saving model to model_2.h5\n",
      "Epoch 6/20\n",
      "6090/6090 [==============================] - 109s 18ms/step - loss: 0.5622 - acc: 0.8195 - val_loss: 0.5968 - val_acc: 0.7702\n",
      "\n",
      "Epoch 00006: val_loss improved from 0.61588 to 0.59675, saving model to model_2.h5\n",
      "Epoch 7/20\n",
      "6090/6090 [==============================] - 108s 18ms/step - loss: 0.5304 - acc: 0.8296 - val_loss: 0.6465 - val_acc: 0.7380\n",
      "\n",
      "Epoch 00007: val_loss did not improve from 0.59675\n",
      "Epoch 8/20\n",
      "6090/6090 [==============================] - 105s 17ms/step - loss: 0.4982 - acc: 0.8368 - val_loss: 0.5796 - val_acc: 0.7859\n",
      "\n",
      "Epoch 00008: val_loss improved from 0.59675 to 0.57961, saving model to model_2.h5\n",
      "Epoch 9/20\n",
      "6090/6090 [==============================] - 103s 17ms/step - loss: 0.4846 - acc: 0.8430 - val_loss: 0.5610 - val_acc: 0.7787\n",
      "\n",
      "Epoch 00009: val_loss improved from 0.57961 to 0.56099, saving model to model_2.h5\n",
      "Epoch 10/20\n",
      "6090/6090 [==============================] - 103s 17ms/step - loss: 0.4589 - acc: 0.8519 - val_loss: 0.5754 - val_acc: 0.7715\n",
      "\n",
      "Epoch 00010: val_loss did not improve from 0.56099\n",
      "Epoch 11/20\n",
      "6090/6090 [==============================] - 102s 17ms/step - loss: 0.4332 - acc: 0.8642 - val_loss: 0.6030 - val_acc: 0.7846\n",
      "\n",
      "Epoch 00011: val_loss did not improve from 0.56099\n",
      "Epoch 12/20\n",
      "6090/6090 [==============================] - 101s 17ms/step - loss: 0.4430 - acc: 0.8644 - val_loss: 0.6247 - val_acc: 0.7768\n",
      "\n",
      "Epoch 00012: val_loss did not improve from 0.56099\n",
      "Epoch 13/20\n",
      "6090/6090 [==============================] - 104s 17ms/step - loss: 0.4143 - acc: 0.8657 - val_loss: 0.6109 - val_acc: 0.7912\n",
      "\n",
      "Epoch 00013: val_loss did not improve from 0.56099\n",
      "Epoch 14/20\n",
      "6090/6090 [==============================] - 105s 17ms/step - loss: 0.4011 - acc: 0.8841 - val_loss: 0.6485 - val_acc: 0.7846\n",
      "\n",
      "Epoch 00014: val_loss did not improve from 0.56099\n",
      "Restoring model weights from the end of the best epoch\n",
      "Epoch 00014: early stopping\n"
     ]
    }
   ],
   "source": [
    "import warnings\n",
    "warnings.filterwarnings('ignore')\n",
    "\n",
    "history_1 = model_1.fit(tr_pad, y_tr, batch_size = 128,\n",
    "                        epochs = 20, validation_split = 0.2, verbose = 1,\n",
    "                        callbacks = callback_1)"
   ]
  },
  {
   "cell_type": "markdown",
   "metadata": {
    "colab_type": "text",
    "id": "TkMSNMuHIag8"
   },
   "source": [
    "# Plotting train vs validation accuracy"
   ]
  },
  {
   "cell_type": "code",
   "execution_count": 77,
   "metadata": {
    "colab": {
     "base_uri": "https://localhost:8080/",
     "height": 281
    },
    "colab_type": "code",
    "executionInfo": {
     "elapsed": 1253,
     "status": "ok",
     "timestamp": 1578722437641,
     "user": {
      "displayName": "sandeep panchal",
      "photoUrl": "https://lh3.googleusercontent.com/a-/AAuE7mCDqp8ZcyRAywNG1QL_TT0dbqm_TRCL6CyGzR511w=s64",
      "userId": "16028125481769875260"
     },
     "user_tz": -330
    },
    "id": "y2t3VpesIbPA",
    "outputId": "0d45d05c-3173-4363-9226-b86ae31c6d80"
   },
   "outputs": [
    {
     "data": {
      "image/png": "[encoded data removed]",
      "text/plain": [
       "<Figure size 432x288 with 1 Axes>"
      ]
     },
     "metadata": {
      "tags": []
     },
     "output_type": "display_data"
    }
   ],
   "source": [
    "# Plotting train and test auc roc score\n",
    "plt.plot(history_1.history['acc'], 'r')\n",
    "plt.plot(history_1.history['val_acc'], 'b')\n",
    "plt.title(\"Accuracy score of train and val\")\n",
    "plt.legend({'Train Accuracy': 'r', 'Val Accuracy':'b'})\n",
    "plt.show()"
   ]
  },
  {
   "cell_type": "markdown",
   "metadata": {
    "colab_type": "text",
    "id": "btXUtpN1IsqR"
   },
   "source": [
    "# Plotting train vs validation loss"
   ]
  },
  {
   "cell_type": "code",
   "execution_count": 78,
   "metadata": {
    "colab": {
     "base_uri": "https://localhost:8080/",
     "height": 281
    },
    "colab_type": "code",
    "executionInfo": {
     "elapsed": 1163,
     "status": "ok",
     "timestamp": 1578722442575,
     "user": {
      "displayName": "sandeep panchal",
      "photoUrl": "https://lh3.googleusercontent.com/a-/AAuE7mCDqp8ZcyRAywNG1QL_TT0dbqm_TRCL6CyGzR511w=s64",
      "userId": "16028125481769875260"
     },
     "user_tz": -330
    },
    "id": "0uG-PxE-Ikvq",
    "outputId": "c1e0cb9f-6814-427d-ee1d-1cd3bdf16ede"
   },
   "outputs": [
    {
     "data": {
      "image/png": "[encoded data removed]",
      "text/plain": [
       "<Figure size 432x288 with 1 Axes>"
      ]
     },
     "metadata": {
      "tags": []
     },
     "output_type": "display_data"
    }
   ],
   "source": [
    "# Plotting train and test auc roc score\n",
    "plt.plot(history_1.history['loss'], 'r')\n",
    "plt.plot(history_1.history['val_loss'], 'b')\n",
    "plt.title(\"loss of train and val\")\n",
    "plt.legend({'Train Loss': 'r', 'Val Loss':'b'})\n",
    "plt.show()"
   ]
  },
  {
   "cell_type": "markdown",
   "metadata": {
    "colab_type": "text",
    "id": "izmwtTzMI7yc"
   },
   "source": [
    "# Test data prediction"
   ]
  },
  {
   "cell_type": "code",
   "execution_count": 0,
   "metadata": {
    "colab": {},
    "colab_type": "code",
    "id": "yhMsPVecI9Hq"
   },
   "outputs": [],
   "source": [
    "pred = model_1.predict(te_pad)\n",
    "\n",
    "# Argmax to get the class prediction\n",
    "pred_class= pred.argmax(axis = 1)\n",
    "\n",
    "# Getting a copy of submission file\n",
    "sub_lstm = copy.deepcopy(submission)\n",
    "\n",
    "# Mapping predicted class to submission\n",
    "sub_lstm['target'] = pred_class\n",
    "\n",
    "# Saving submission\n",
    "sub_lstm.to_csv('LSTM.csv', index = False)"
   ]
  },
  {
   "cell_type": "markdown",
   "metadata": {
    "colab": {},
    "colab_type": "code",
    "id": "e4NJCu84Oa9-"
   },
   "source": [
    "# Pretty Table"
   ]
  },
  {
   "cell_type": "code",
   "execution_count": 9,
   "metadata": {},
   "outputs": [
    {
     "name": "stdout",
     "output_type": "stream",
     "text": [
      "\n",
      " +------+-------------+---------------------------+---------------+\n",
      "| S.No |  Algorithm  |    Feature Engineering    | Test F1-Score |\n",
      "+------+-------------+---------------------------+---------------+\n",
      "|  1   | Naive Bayes | Keyword + Location + Text |    0.80163    |\n",
      "|  2   |     LSTM    | Keyword + Location + Text |    0.78834    |\n",
      "+------+-------------+---------------------------+---------------+ \n",
      "\n"
     ]
    }
   ],
   "source": [
    "from prettytable import PrettyTable\n",
    "\n",
    "a = PrettyTable()\n",
    "\n",
    "a.field_names = ['S.No', 'Algorithm', 'Feature Engineering', 'Test F1-Score']\n",
    "\n",
    "a.add_row(['1', 'Naive Bayes', 'Keyword + Location + Text', 0.80163])\n",
    "a.add_row(['2', 'LSTM', 'Keyword + Location + Text', 0.78834])\n",
    "\n",
    "print('\\n', a, '\\n')"
   ]
  },
  {
   "cell_type": "markdown",
   "metadata": {},
   "source": [
    "# Kaggle Competition Leaderboard"
   ]
  },
  {
   "cell_type": "markdown",
   "metadata": {},
   "source": [
    "![title](NB_LSTM_Tweet.png)"
   ]
  },
  {
   "cell_type": "markdown",
   "metadata": {},
   "source": [
    "# Conclusion"
   ]
  },
  {
   "cell_type": "markdown",
   "metadata": {},
   "source": [
    " - Applied feature engineering of combining keyword, location and text features.\n",
    " - With machine learning algorithm - Naive Bayes, achieved f1-score of 0.80163.\n",
    " - With deep learning - LSTM, achieved f1-score of 0.78834.\n",
    " - Naive Bayes outperformed when compared to LSTM."
   ]
  },
  {
   "cell_type": "code",
   "execution_count": null,
   "metadata": {},
   "outputs": [],
   "source": []
  }
 ],
 "metadata": {
  "accelerator": "GPU",
  "colab": {
   "collapsed_sections": [],
   "name": "LSTM_Tweets Disaster or not_kaggle.ipynb",
   "provenance": []
  },
  "kernelspec": {
   "display_name": "Python 3",
   "language": "python",
   "name": "python3"
  },
  "language_info": {
   "codemirror_mode": {
    "name": "ipython",
    "version": 3
   },
   "file_extension": ".py",
   "mimetype": "text/x-python",
   "name": "python",
   "nbconvert_exporter": "python",
   "pygments_lexer": "ipython3",
   "version": "3.7.0"
  }
 },
 "nbformat": 4,
 "nbformat_minor": 1
}
